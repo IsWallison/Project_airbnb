{
  "cells": [
    {
      "cell_type": "markdown",
      "metadata": {
        "id": "view-in-github",
        "colab_type": "text"
      },
      "source": [
        "<a href=\"https://colab.research.google.com/github/IsWallison/Project_airbnb/blob/main/Copy_of_%5BTemplate%5D_Analisando_os_Dados_do_Airbnb.ipynb\" target=\"_parent\"><img src=\"https://colab.research.google.com/assets/colab-badge.svg\" alt=\"Open In Colab\"/></a>"
      ]
    },
    {
      "cell_type": "markdown",
      "metadata": {
        "id": "kLI0gJtzDGuQ"
      },
      "source": [
        "<img alt=\"Colaboratory logo\" width=\"15%\" src=\"https://raw.githubusercontent.com/carlosfab/escola-data-science/master/img/novo_logo_bg_claro.png\">\n",
        "\n",
        "#### **Data Science na Prática 3.0**\n",
        "*by [sigmoidal.ai](https://sigmoidal.ai)*\n",
        "\n",
        "---\n",
        "\n",
        "# Análise dos Dados do Airbnb - *Sua Cidade*\n",
        "\n",
        "O [Airbnb](https://www.airbnb.com.br/) já é considerado como sendo a **maior empresa hoteleira da atualidade**. Ah, o detalhe é que ele **não possui nenhum hotel**!\n",
        "\n",
        "Conectando pessoas que querem viajar (e se hospedar) com anfitriões que querem alugar seus imóveis de maneira prática, o Airbnb fornece uma plataforma inovadora para tornar essa hospedagem alternativa.\n",
        "\n",
        "No final de 2018, a Startup fundada 10 anos atrás, já havia **hospedado mais de 300 milhões** de pessoas ao redor de todo o mundo, desafiando as redes hoteleiras tradicionais.\n",
        "\n",
        "Uma das iniciativas do Airbnb é disponibilizar dados do site, para algumas das principais cidades do mundo. Por meio do portal [Inside Airbnb](http://insideairbnb.com/get-the-data.html), é possível baixar uma grande quantidade de dados para desenvolver projetos e soluções de *Data Science*.\n",
        "\n",
        "<center><img alt=\"Analisando Airbnb\" width=\"10%\" src=\"https://www.area360.com.au/wp-content/uploads/2017/09/airbnb-logo.jpg\"></center>\n",
        "\n",
        "**Neste *notebook*, iremos analisar os dados referentes à cidade ________, e ver quais insights podem ser extraídos a partir de dados brutos.**"
      ]
    },
    {
      "cell_type": "markdown",
      "metadata": {
        "id": "0zxQHhIUDF_2"
      },
      "source": [
        "## Obtenção dos Dados\n"
      ]
    },
    {
      "cell_type": "markdown",
      "metadata": {
        "id": "b0EgiU8GkZz-"
      },
      "source": [
        "Primeiramente começo importando as bibliotecas que me auxiliarão na análise e tratamento dos dados. Panda, Matplotlib, Seaborm e Folium\n",
        " \n",
        "**Pandas** é uma ferramenta de análise e manipulação de dados de código aberto rápida, poderosa, flexível e fácil de usar,\n",
        "construído sobre a linguagem de programação Python.\n",
        "\n",
        "***Matplotlib*** é uma biblioteca abrangente para criar visualizações estáticas, animadas e interativas em Python. O Matplotlib torna as coisas fáceis mais fáceis e as difíceis possíveis.\n",
        "\n",
        "**Seaborn** é uma biblioteca de visualização de dados Python baseada em matplotlib. Ele fornece uma interface de alto nível para desenhar gráficos estatísticos atraentes e informativos.\n",
        "\n",
        "***Folium*** facilita a visualização de dados que foram manipulados em Python em um mapa de folheto interativo. Ele permite a vinculação de dados a um mapa para visualizações coropléticas, bem como a passagem de visualizações vetoriais/raster/HTML avançadas como marcadores no mapa.\n"
      ]
    },
    {
      "cell_type": "code",
      "execution_count": 1,
      "metadata": {
        "id": "Vhp2wMPgJ6zX"
      },
      "outputs": [],
      "source": [
        "# importar os pacotes necessarios\n",
        "import pandas as pd\n",
        "import matplotlib.pyplot as plt\n",
        "import seaborn as sns\n",
        "import folium \n",
        "from folium import plugins\n",
        "\n",
        "\n",
        "%matplotlib inline"
      ]
    },
    {
      "cell_type": "markdown",
      "metadata": {
        "id": "z6RbzFKKklK7"
      },
      "source": [
        "Importando os dados no site http://insideairbnb.com/get-the-data no formato CSV e atribuindo a uma variável chamada df.\n",
        "\n",
        "CSV é a sigla para Comma Separated Values (em português, valores separados por vírgulas). Um arquivo CSV é um arquivo de texto simples que armazena informações de planilhas e tabelas. O conteúdo geralmente é uma tabela de texto, números ou datas. Os arquivos CSV podem ser facilmente importados e exportados usando programas que armazenam dados em tabelas."
      ]
    },
    {
      "cell_type": "code",
      "execution_count": 2,
      "metadata": {
        "id": "tUmoAT8DLQ5T"
      },
      "outputs": [],
      "source": [
        "# importar o arquivo listings.csv para um DataFrame\n",
        "df = pd.read_csv('http://data.insideairbnb.com/canada/nb/new-brunswick/2022-09-22/visualisations/listings.csv')"
      ]
    },
    {
      "cell_type": "markdown",
      "metadata": {
        "id": "qb5By2nIMS6m"
      },
      "source": [
        "## Análise dos Dados\n"
      ]
    },
    {
      "cell_type": "markdown",
      "metadata": {
        "id": "SgqyQNIKl6WR"
      },
      "source": [
        "Coletar todas as colunas para fazer um dicionário das variáveis para facilitar o entendimento da análise, através de um laço de repetição “for” que também são chamados de “loops definidos”, pois executam a instrução um certo número de vezes."
      ]
    },
    {
      "cell_type": "code",
      "execution_count": 3,
      "metadata": {
        "id": "4f7nABp6lzfZ",
        "colab": {
          "base_uri": "https://localhost:8080/"
        },
        "outputId": "b0a5e0bb-f68e-44eb-8dd5-fe23e72a151d"
      },
      "outputs": [
        {
          "output_type": "stream",
          "name": "stdout",
          "text": [
            "* id = \n",
            "* name = \n",
            "* host_id = \n",
            "* host_name = \n",
            "* neighbourhood_group = \n",
            "* neighbourhood = \n",
            "* latitude = \n",
            "* longitude = \n",
            "* room_type = \n",
            "* price = \n",
            "* minimum_nights = \n",
            "* number_of_reviews = \n",
            "* last_review = \n",
            "* reviews_per_month = \n",
            "* calculated_host_listings_count = \n",
            "* availability_365 = \n",
            "* number_of_reviews_ltm = \n",
            "* license = \n"
          ]
        }
      ],
      "source": [
        "for coluna in df.columns:\n",
        "  print(f'* {coluna} = ')"
      ]
    },
    {
      "cell_type": "markdown",
      "metadata": {
        "id": "RYgvuebKNg8-"
      },
      "source": [
        "**Dicionário das variáveis**\n",
        "\n",
        "* id = Identificador exclusivo do Airbnb para o anúncio.\n",
        "* name = Nome da listagem.\n",
        "* host_id = Identificador exclusivo do Airbnb para o anfitrião/usuário.\n",
        "* host_name = Nome do anfitrião.\n",
        "* neighbourhood_group = Condado.\n",
        "* neighbourhood = vizinhança/bairro.\n",
        "* latitude = Latitude.\n",
        "* longitude = Longitude.\n",
        "* room_type = tipo de hospedagem.\n",
        "* price = preço diário na moeda local.\n",
        "* minimum_nights = número mínimo de pernoites para o anúncio.\n",
        "* number_of_reviews = O número de comentários que a listagem tem.\n",
        "* last_review = A data da última/mais recente revisão.\n",
        "* reviews_per_month = A média de comentários que a listagem tem por mês.\n",
        "* calculated_host_listings_count = O número de listagens de casas/aptos inteiros que o host tem no scrape atual, na geografia da cidade/região.\n",
        "* availability_365 = A disponibilidade do anúncio x dias no futuro.\n",
        "* number_of_reviews_ltm = O número de comentários que a listagem tem (nos últimos 12 meses).\n",
        "* license = O número da licença/autorização/registro.\n",
        "\n",
        "\n",
        "\n",
        "\n",
        "\n",
        "\n"
      ]
    },
    {
      "cell_type": "markdown",
      "metadata": {
        "id": "Hg-xQ3zXqsco"
      },
      "source": [
        "Antes de iniciar qualquer análise, vamos verificar a cara do nosso *dataset*, analisando as 5 primeiras entradas."
      ]
    },
    {
      "cell_type": "code",
      "execution_count": 4,
      "metadata": {
        "id": "2iS_dae7YQtO",
        "colab": {
          "base_uri": "https://localhost:8080/",
          "height": 461
        },
        "outputId": "9f31636d-caf9-4879-cf6a-e89dff2224c0"
      },
      "outputs": [
        {
          "output_type": "execute_result",
          "data": {
            "text/plain": [
              "       id                                       name  host_id host_name  \\\n",
              "0   75065           Bay cottage on Passamaquoddy bay   397069       Bob   \n",
              "1  145013        Lobster Lane Cottage: private beach   642972  Jennifer   \n",
              "2  261800          Furnished Executive Close to City  1373498      Usha   \n",
              "3  552500  Maine Riverfront Bed and Breakfast ROOM 3  2714886     Karen   \n",
              "4  872640         Acadian Isle Retreat - Heron Haven  2189998  Danielle   \n",
              "\n",
              "  neighbourhood_group       neighbourhood  latitude  longitude  \\\n",
              "0           Charlotte       Saint Andrews  45.13241  -67.04725   \n",
              "1                Kent              Dundas  46.32857  -64.52445   \n",
              "2          Saint John  City of Saint John  45.27727  -66.06040   \n",
              "3           Charlotte            Dufferin  45.16902  -67.24404   \n",
              "4          Gloucester           Shippagan  47.86785  -64.52187   \n",
              "\n",
              "         room_type  price  minimum_nights  number_of_reviews last_review  \\\n",
              "0  Entire home/apt    256               2                 40  2022-09-17   \n",
              "1  Entire home/apt    150               7                  8  2020-08-23   \n",
              "2  Entire home/apt    125               2                 59  2022-08-25   \n",
              "3     Private room    228               1                 64  2022-08-18   \n",
              "4  Entire home/apt    135               7                  3  2019-08-18   \n",
              "\n",
              "   reviews_per_month  calculated_host_listings_count  availability_365  \\\n",
              "0               0.45                               1               350   \n",
              "1               0.08                               1               297   \n",
              "2               0.76                               2               343   \n",
              "3               0.52                               4                90   \n",
              "4               0.03                               1               365   \n",
              "\n",
              "   number_of_reviews_ltm license  \n",
              "0                     13     NaN  \n",
              "1                      0     NaN  \n",
              "2                     15     NaN  \n",
              "3                      5     NaN  \n",
              "4                      0     NaN  "
            ],
            "text/html": [
              "\n",
              "  <div id=\"df-7d7d1d07-9c24-447e-bb8c-2ad451480918\">\n",
              "    <div class=\"colab-df-container\">\n",
              "      <div>\n",
              "<style scoped>\n",
              "    .dataframe tbody tr th:only-of-type {\n",
              "        vertical-align: middle;\n",
              "    }\n",
              "\n",
              "    .dataframe tbody tr th {\n",
              "        vertical-align: top;\n",
              "    }\n",
              "\n",
              "    .dataframe thead th {\n",
              "        text-align: right;\n",
              "    }\n",
              "</style>\n",
              "<table border=\"1\" class=\"dataframe\">\n",
              "  <thead>\n",
              "    <tr style=\"text-align: right;\">\n",
              "      <th></th>\n",
              "      <th>id</th>\n",
              "      <th>name</th>\n",
              "      <th>host_id</th>\n",
              "      <th>host_name</th>\n",
              "      <th>neighbourhood_group</th>\n",
              "      <th>neighbourhood</th>\n",
              "      <th>latitude</th>\n",
              "      <th>longitude</th>\n",
              "      <th>room_type</th>\n",
              "      <th>price</th>\n",
              "      <th>minimum_nights</th>\n",
              "      <th>number_of_reviews</th>\n",
              "      <th>last_review</th>\n",
              "      <th>reviews_per_month</th>\n",
              "      <th>calculated_host_listings_count</th>\n",
              "      <th>availability_365</th>\n",
              "      <th>number_of_reviews_ltm</th>\n",
              "      <th>license</th>\n",
              "    </tr>\n",
              "  </thead>\n",
              "  <tbody>\n",
              "    <tr>\n",
              "      <th>0</th>\n",
              "      <td>75065</td>\n",
              "      <td>Bay cottage on Passamaquoddy bay</td>\n",
              "      <td>397069</td>\n",
              "      <td>Bob</td>\n",
              "      <td>Charlotte</td>\n",
              "      <td>Saint Andrews</td>\n",
              "      <td>45.13241</td>\n",
              "      <td>-67.04725</td>\n",
              "      <td>Entire home/apt</td>\n",
              "      <td>256</td>\n",
              "      <td>2</td>\n",
              "      <td>40</td>\n",
              "      <td>2022-09-17</td>\n",
              "      <td>0.45</td>\n",
              "      <td>1</td>\n",
              "      <td>350</td>\n",
              "      <td>13</td>\n",
              "      <td>NaN</td>\n",
              "    </tr>\n",
              "    <tr>\n",
              "      <th>1</th>\n",
              "      <td>145013</td>\n",
              "      <td>Lobster Lane Cottage: private beach</td>\n",
              "      <td>642972</td>\n",
              "      <td>Jennifer</td>\n",
              "      <td>Kent</td>\n",
              "      <td>Dundas</td>\n",
              "      <td>46.32857</td>\n",
              "      <td>-64.52445</td>\n",
              "      <td>Entire home/apt</td>\n",
              "      <td>150</td>\n",
              "      <td>7</td>\n",
              "      <td>8</td>\n",
              "      <td>2020-08-23</td>\n",
              "      <td>0.08</td>\n",
              "      <td>1</td>\n",
              "      <td>297</td>\n",
              "      <td>0</td>\n",
              "      <td>NaN</td>\n",
              "    </tr>\n",
              "    <tr>\n",
              "      <th>2</th>\n",
              "      <td>261800</td>\n",
              "      <td>Furnished Executive Close to City</td>\n",
              "      <td>1373498</td>\n",
              "      <td>Usha</td>\n",
              "      <td>Saint John</td>\n",
              "      <td>City of Saint John</td>\n",
              "      <td>45.27727</td>\n",
              "      <td>-66.06040</td>\n",
              "      <td>Entire home/apt</td>\n",
              "      <td>125</td>\n",
              "      <td>2</td>\n",
              "      <td>59</td>\n",
              "      <td>2022-08-25</td>\n",
              "      <td>0.76</td>\n",
              "      <td>2</td>\n",
              "      <td>343</td>\n",
              "      <td>15</td>\n",
              "      <td>NaN</td>\n",
              "    </tr>\n",
              "    <tr>\n",
              "      <th>3</th>\n",
              "      <td>552500</td>\n",
              "      <td>Maine Riverfront Bed and Breakfast ROOM 3</td>\n",
              "      <td>2714886</td>\n",
              "      <td>Karen</td>\n",
              "      <td>Charlotte</td>\n",
              "      <td>Dufferin</td>\n",
              "      <td>45.16902</td>\n",
              "      <td>-67.24404</td>\n",
              "      <td>Private room</td>\n",
              "      <td>228</td>\n",
              "      <td>1</td>\n",
              "      <td>64</td>\n",
              "      <td>2022-08-18</td>\n",
              "      <td>0.52</td>\n",
              "      <td>4</td>\n",
              "      <td>90</td>\n",
              "      <td>5</td>\n",
              "      <td>NaN</td>\n",
              "    </tr>\n",
              "    <tr>\n",
              "      <th>4</th>\n",
              "      <td>872640</td>\n",
              "      <td>Acadian Isle Retreat - Heron Haven</td>\n",
              "      <td>2189998</td>\n",
              "      <td>Danielle</td>\n",
              "      <td>Gloucester</td>\n",
              "      <td>Shippagan</td>\n",
              "      <td>47.86785</td>\n",
              "      <td>-64.52187</td>\n",
              "      <td>Entire home/apt</td>\n",
              "      <td>135</td>\n",
              "      <td>7</td>\n",
              "      <td>3</td>\n",
              "      <td>2019-08-18</td>\n",
              "      <td>0.03</td>\n",
              "      <td>1</td>\n",
              "      <td>365</td>\n",
              "      <td>0</td>\n",
              "      <td>NaN</td>\n",
              "    </tr>\n",
              "  </tbody>\n",
              "</table>\n",
              "</div>\n",
              "      <button class=\"colab-df-convert\" onclick=\"convertToInteractive('df-7d7d1d07-9c24-447e-bb8c-2ad451480918')\"\n",
              "              title=\"Convert this dataframe to an interactive table.\"\n",
              "              style=\"display:none;\">\n",
              "        \n",
              "  <svg xmlns=\"http://www.w3.org/2000/svg\" height=\"24px\"viewBox=\"0 0 24 24\"\n",
              "       width=\"24px\">\n",
              "    <path d=\"M0 0h24v24H0V0z\" fill=\"none\"/>\n",
              "    <path d=\"M18.56 5.44l.94 2.06.94-2.06 2.06-.94-2.06-.94-.94-2.06-.94 2.06-2.06.94zm-11 1L8.5 8.5l.94-2.06 2.06-.94-2.06-.94L8.5 2.5l-.94 2.06-2.06.94zm10 10l.94 2.06.94-2.06 2.06-.94-2.06-.94-.94-2.06-.94 2.06-2.06.94z\"/><path d=\"M17.41 7.96l-1.37-1.37c-.4-.4-.92-.59-1.43-.59-.52 0-1.04.2-1.43.59L10.3 9.45l-7.72 7.72c-.78.78-.78 2.05 0 2.83L4 21.41c.39.39.9.59 1.41.59.51 0 1.02-.2 1.41-.59l7.78-7.78 2.81-2.81c.8-.78.8-2.07 0-2.86zM5.41 20L4 18.59l7.72-7.72 1.47 1.35L5.41 20z\"/>\n",
              "  </svg>\n",
              "      </button>\n",
              "      \n",
              "  <style>\n",
              "    .colab-df-container {\n",
              "      display:flex;\n",
              "      flex-wrap:wrap;\n",
              "      gap: 12px;\n",
              "    }\n",
              "\n",
              "    .colab-df-convert {\n",
              "      background-color: #E8F0FE;\n",
              "      border: none;\n",
              "      border-radius: 50%;\n",
              "      cursor: pointer;\n",
              "      display: none;\n",
              "      fill: #1967D2;\n",
              "      height: 32px;\n",
              "      padding: 0 0 0 0;\n",
              "      width: 32px;\n",
              "    }\n",
              "\n",
              "    .colab-df-convert:hover {\n",
              "      background-color: #E2EBFA;\n",
              "      box-shadow: 0px 1px 2px rgba(60, 64, 67, 0.3), 0px 1px 3px 1px rgba(60, 64, 67, 0.15);\n",
              "      fill: #174EA6;\n",
              "    }\n",
              "\n",
              "    [theme=dark] .colab-df-convert {\n",
              "      background-color: #3B4455;\n",
              "      fill: #D2E3FC;\n",
              "    }\n",
              "\n",
              "    [theme=dark] .colab-df-convert:hover {\n",
              "      background-color: #434B5C;\n",
              "      box-shadow: 0px 1px 3px 1px rgba(0, 0, 0, 0.15);\n",
              "      filter: drop-shadow(0px 1px 2px rgba(0, 0, 0, 0.3));\n",
              "      fill: #FFFFFF;\n",
              "    }\n",
              "  </style>\n",
              "\n",
              "      <script>\n",
              "        const buttonEl =\n",
              "          document.querySelector('#df-7d7d1d07-9c24-447e-bb8c-2ad451480918 button.colab-df-convert');\n",
              "        buttonEl.style.display =\n",
              "          google.colab.kernel.accessAllowed ? 'block' : 'none';\n",
              "\n",
              "        async function convertToInteractive(key) {\n",
              "          const element = document.querySelector('#df-7d7d1d07-9c24-447e-bb8c-2ad451480918');\n",
              "          const dataTable =\n",
              "            await google.colab.kernel.invokeFunction('convertToInteractive',\n",
              "                                                     [key], {});\n",
              "          if (!dataTable) return;\n",
              "\n",
              "          const docLinkHtml = 'Like what you see? Visit the ' +\n",
              "            '<a target=\"_blank\" href=https://colab.research.google.com/notebooks/data_table.ipynb>data table notebook</a>'\n",
              "            + ' to learn more about interactive tables.';\n",
              "          element.innerHTML = '';\n",
              "          dataTable['output_type'] = 'display_data';\n",
              "          await google.colab.output.renderOutput(dataTable, element);\n",
              "          const docLink = document.createElement('div');\n",
              "          docLink.innerHTML = docLinkHtml;\n",
              "          element.appendChild(docLink);\n",
              "        }\n",
              "      </script>\n",
              "    </div>\n",
              "  </div>\n",
              "  "
            ]
          },
          "metadata": {},
          "execution_count": 4
        }
      ],
      "source": [
        "# mostrar as 5 primeiras entradas\n",
        "df.head()\n"
      ]
    },
    {
      "cell_type": "markdown",
      "metadata": {
        "id": "6-B_qtEaYEd-"
      },
      "source": [
        "### **Q1. Quantos atributos (variáveis) e quantas entradas o nosso conjunto de dados possui? Quais os tipos das variáveis?**"
      ]
    },
    {
      "cell_type": "markdown",
      "metadata": {
        "id": "ogYPk7wmq0bI"
      },
      "source": [
        "Visualizando o formato e um resumo do *dataset*, para começar a análise exploratória\n"
      ]
    },
    {
      "cell_type": "code",
      "execution_count": 5,
      "metadata": {
        "id": "TFRK0tniLV-G",
        "colab": {
          "base_uri": "https://localhost:8080/"
        },
        "outputId": "6f5e02a5-fce6-443f-930c-fa7a08ca97cf"
      },
      "outputs": [
        {
          "output_type": "stream",
          "name": "stdout",
          "text": [
            "O dataset tem 3232 linhas e 18 colunas.\n",
            "\n",
            " Analisando a composição dos dados presente no Dataset \n",
            "\n",
            "<class 'pandas.core.frame.DataFrame'>\n",
            "RangeIndex: 3232 entries, 0 to 3231\n",
            "Data columns (total 18 columns):\n",
            " #   Column                          Non-Null Count  Dtype  \n",
            "---  ------                          --------------  -----  \n",
            " 0   id                              3232 non-null   int64  \n",
            " 1   name                            3232 non-null   object \n",
            " 2   host_id                         3232 non-null   int64  \n",
            " 3   host_name                       3232 non-null   object \n",
            " 4   neighbourhood_group             3232 non-null   object \n",
            " 5   neighbourhood                   3232 non-null   object \n",
            " 6   latitude                        3232 non-null   float64\n",
            " 7   longitude                       3232 non-null   float64\n",
            " 8   room_type                       3232 non-null   object \n",
            " 9   price                           3232 non-null   int64  \n",
            " 10  minimum_nights                  3232 non-null   int64  \n",
            " 11  number_of_reviews               3232 non-null   int64  \n",
            " 12  last_review                     2931 non-null   object \n",
            " 13  reviews_per_month               2931 non-null   float64\n",
            " 14  calculated_host_listings_count  3232 non-null   int64  \n",
            " 15  availability_365                3232 non-null   int64  \n",
            " 16  number_of_reviews_ltm           3232 non-null   int64  \n",
            " 17  license                         2 non-null      object \n",
            "dtypes: float64(3), int64(8), object(7)\n",
            "memory usage: 454.6+ KB\n"
          ]
        }
      ],
      "source": [
        "# identificar o volume de dados do DataFrame\n",
        "print(f'O dataset tem {df.shape[0]} linhas e {df.shape[1]} colunas.')\n",
        "print('\\n Analisando a composição dos dados presente no Dataset \\n')\n",
        "df.info()\n",
        "\n",
        "# verificar as 5 primeiras entradas do dataset\n"
      ]
    },
    {
      "cell_type": "markdown",
      "metadata": {
        "id": "yz1urSUGW9iE"
      },
      "source": [
        "### **Q2. Qual a porcentagem de valores ausentes no *dataset*?**"
      ]
    },
    {
      "cell_type": "markdown",
      "metadata": {
        "id": "A0rJDWOfs6gs"
      },
      "source": [
        "Foram identificados alguns valores nulos/ausentes.\n",
        "\n",
        "Para analisar a porcentagem de valores ausentes vamos achar a quantidade total de valores ausentes e dividir pelo total de linhas, posteriormente multiplicar por 100 para achar o valor em porcentagem e a ordem será colocada do maior para a menor."
      ]
    },
    {
      "cell_type": "code",
      "execution_count": 6,
      "metadata": {
        "id": "plk2FjbCXOqP",
        "colab": {
          "base_uri": "https://localhost:8080/"
        },
        "outputId": "6976073e-baf6-432e-80a1-a37fa33ec199"
      },
      "outputs": [
        {
          "output_type": "execute_result",
          "data": {
            "text/plain": [
              "license                           99.938119\n",
              "reviews_per_month                  9.313119\n",
              "last_review                        9.313119\n",
              "name                               0.000000\n",
              "number_of_reviews_ltm              0.000000\n",
              "availability_365                   0.000000\n",
              "calculated_host_listings_count     0.000000\n",
              "number_of_reviews                  0.000000\n",
              "minimum_nights                     0.000000\n",
              "id                                 0.000000\n",
              "room_type                          0.000000\n",
              "longitude                          0.000000\n",
              "latitude                           0.000000\n",
              "neighbourhood                      0.000000\n",
              "neighbourhood_group                0.000000\n",
              "host_name                          0.000000\n",
              "host_id                            0.000000\n",
              "price                              0.000000\n",
              "dtype: float64"
            ]
          },
          "metadata": {},
          "execution_count": 6
        }
      ],
      "source": [
        "# ordenar em ordem decrescente as variáveis por seus valores ausentes\n",
        "numero_de_linhas = df.shape[0]\n",
        "((df.isnull().sum()/numero_de_linhas)*100).sort_values(ascending=False)"
      ]
    },
    {
      "cell_type": "markdown",
      "metadata": {
        "id": "pqp9uV1DuTgq"
      },
      "source": [
        "Temos dados ausente em 3 colunas: license, reviews_per_month e last_review, onde a license esta ausente em mais de 99% dos dados.\n",
        "Pode significar várias coisas diferentes. Talvez o campo não fosse aplicável, ou os dados não estavam disponíveis. Pode ser que a pessoa que inseriu os dados não sabia o valor certo, ou não se preocupou que um campo não fosse preenchido.\n",
        "\n"
      ]
    },
    {
      "cell_type": "markdown",
      "metadata": {
        "id": "iHXvvHIxaoNc"
      },
      "source": [
        "### **Q3. Qual o tipo de distribuição das variáveis?** "
      ]
    },
    {
      "cell_type": "markdown",
      "metadata": {
        "id": "sNRPMx-mvh8I"
      },
      "source": [
        "Um histograma é uma espécie de gráfico de barras que demonstra uma distribuição de frequências. No histograma, a base de cada uma das barras representa uma classe e a altura representa a quantidade ou frequência absoluta com que o valor de cada classe ocorre.\n",
        "Um histograma tornará fácil ver onde a maioria dos valores se classificam em uma escala de medição e quanta variação existe entre eles. \n"
      ]
    },
    {
      "cell_type": "code",
      "execution_count": 7,
      "metadata": {
        "colab": {
          "base_uri": "https://localhost:8080/",
          "height": 607
        },
        "id": "q2wWSfeRbmBo",
        "outputId": "70856239-ce52-41c0-b851-27cc6453c6b4"
      },
      "outputs": [
        {
          "output_type": "display_data",
          "data": {
            "text/plain": [
              "<Figure size 1080x720 with 12 Axes>"
            ],
            "image/png": "[encoded data removed]"
          },
          "metadata": {
            "needs_background": "light"
          }
        }
      ],
      "source": [
        "# plotar o histograma das variáveis numéricas\n",
        "df.hist(figsize = (15,10));"
      ]
    },
    {
      "cell_type": "markdown",
      "metadata": {
        "id": "_Gsp8sayDjt7"
      },
      "source": [
        "Olhando esse histograma, o gráfico 'price' possui uma amplitude de valores muito grande, mas a maioria dos valores então agrupados em menos de 10000, oque acende um alerta em relação a valores *outliers*. Será necessária uma análise mais detalhada para confirmar.\n",
        "\n",
        "Com uma descrição dos valores teremos acesso à contagem, média, padrão, mínimo, máximo, bem como percentis inferior, 50 e superior. Por padrão, o percentil inferior é 25 e o percentil superior é 75. O percentil 50 é igual à mediana."
      ]
    },
    {
      "cell_type": "code",
      "execution_count": 8,
      "metadata": {
        "colab": {
          "base_uri": "https://localhost:8080/",
          "height": 300
        },
        "id": "8hBgGhBLvUSJ",
        "outputId": "8456d7ea-454a-4fed-ad92-defa6a6d9b06"
      },
      "outputs": [
        {
          "output_type": "display_data",
          "data": {
            "text/plain": [
              "              price  minimum_nights  number_of_reviews  reviews_per_month  \\\n",
              "count   3232.000000     3232.000000        3232.000000        2931.000000   \n",
              "mean     182.077042        2.811881          31.244431           2.174886   \n",
              "std      904.803382        7.899156          48.790912           2.313866   \n",
              "min       13.000000        1.000000           0.000000           0.020000   \n",
              "25%      100.000000        1.000000           4.000000           0.640000   \n",
              "50%      143.500000        2.000000          14.000000           1.430000   \n",
              "75%      200.000000        3.000000          36.250000           2.900000   \n",
              "max    51000.000000      365.000000         550.000000          20.400000   \n",
              "\n",
              "       availability_365  \n",
              "count       3232.000000  \n",
              "mean         201.051671  \n",
              "std          130.532398  \n",
              "min            0.000000  \n",
              "25%           85.000000  \n",
              "50%          184.000000  \n",
              "75%          337.250000  \n",
              "max          365.000000  "
            ],
            "text/html": [
              "\n",
              "  <div id=\"df-c774e3e5-7ca2-4884-8e34-1cd080a4f932\">\n",
              "    <div class=\"colab-df-container\">\n",
              "      <div>\n",
              "<style scoped>\n",
              "    .dataframe tbody tr th:only-of-type {\n",
              "        vertical-align: middle;\n",
              "    }\n",
              "\n",
              "    .dataframe tbody tr th {\n",
              "        vertical-align: top;\n",
              "    }\n",
              "\n",
              "    .dataframe thead th {\n",
              "        text-align: right;\n",
              "    }\n",
              "</style>\n",
              "<table border=\"1\" class=\"dataframe\">\n",
              "  <thead>\n",
              "    <tr style=\"text-align: right;\">\n",
              "      <th></th>\n",
              "      <th>price</th>\n",
              "      <th>minimum_nights</th>\n",
              "      <th>number_of_reviews</th>\n",
              "      <th>reviews_per_month</th>\n",
              "      <th>availability_365</th>\n",
              "    </tr>\n",
              "  </thead>\n",
              "  <tbody>\n",
              "    <tr>\n",
              "      <th>count</th>\n",
              "      <td>3232.000000</td>\n",
              "      <td>3232.000000</td>\n",
              "      <td>3232.000000</td>\n",
              "      <td>2931.000000</td>\n",
              "      <td>3232.000000</td>\n",
              "    </tr>\n",
              "    <tr>\n",
              "      <th>mean</th>\n",
              "      <td>182.077042</td>\n",
              "      <td>2.811881</td>\n",
              "      <td>31.244431</td>\n",
              "      <td>2.174886</td>\n",
              "      <td>201.051671</td>\n",
              "    </tr>\n",
              "    <tr>\n",
              "      <th>std</th>\n",
              "      <td>904.803382</td>\n",
              "      <td>7.899156</td>\n",
              "      <td>48.790912</td>\n",
              "      <td>2.313866</td>\n",
              "      <td>130.532398</td>\n",
              "    </tr>\n",
              "    <tr>\n",
              "      <th>min</th>\n",
              "      <td>13.000000</td>\n",
              "      <td>1.000000</td>\n",
              "      <td>0.000000</td>\n",
              "      <td>0.020000</td>\n",
              "      <td>0.000000</td>\n",
              "    </tr>\n",
              "    <tr>\n",
              "      <th>25%</th>\n",
              "      <td>100.000000</td>\n",
              "      <td>1.000000</td>\n",
              "      <td>4.000000</td>\n",
              "      <td>0.640000</td>\n",
              "      <td>85.000000</td>\n",
              "    </tr>\n",
              "    <tr>\n",
              "      <th>50%</th>\n",
              "      <td>143.500000</td>\n",
              "      <td>2.000000</td>\n",
              "      <td>14.000000</td>\n",
              "      <td>1.430000</td>\n",
              "      <td>184.000000</td>\n",
              "    </tr>\n",
              "    <tr>\n",
              "      <th>75%</th>\n",
              "      <td>200.000000</td>\n",
              "      <td>3.000000</td>\n",
              "      <td>36.250000</td>\n",
              "      <td>2.900000</td>\n",
              "      <td>337.250000</td>\n",
              "    </tr>\n",
              "    <tr>\n",
              "      <th>max</th>\n",
              "      <td>51000.000000</td>\n",
              "      <td>365.000000</td>\n",
              "      <td>550.000000</td>\n",
              "      <td>20.400000</td>\n",
              "      <td>365.000000</td>\n",
              "    </tr>\n",
              "  </tbody>\n",
              "</table>\n",
              "</div>\n",
              "      <button class=\"colab-df-convert\" onclick=\"convertToInteractive('df-c774e3e5-7ca2-4884-8e34-1cd080a4f932')\"\n",
              "              title=\"Convert this dataframe to an interactive table.\"\n",
              "              style=\"display:none;\">\n",
              "        \n",
              "  <svg xmlns=\"http://www.w3.org/2000/svg\" height=\"24px\"viewBox=\"0 0 24 24\"\n",
              "       width=\"24px\">\n",
              "    <path d=\"M0 0h24v24H0V0z\" fill=\"none\"/>\n",
              "    <path d=\"M18.56 5.44l.94 2.06.94-2.06 2.06-.94-2.06-.94-.94-2.06-.94 2.06-2.06.94zm-11 1L8.5 8.5l.94-2.06 2.06-.94-2.06-.94L8.5 2.5l-.94 2.06-2.06.94zm10 10l.94 2.06.94-2.06 2.06-.94-2.06-.94-.94-2.06-.94 2.06-2.06.94z\"/><path d=\"M17.41 7.96l-1.37-1.37c-.4-.4-.92-.59-1.43-.59-.52 0-1.04.2-1.43.59L10.3 9.45l-7.72 7.72c-.78.78-.78 2.05 0 2.83L4 21.41c.39.39.9.59 1.41.59.51 0 1.02-.2 1.41-.59l7.78-7.78 2.81-2.81c.8-.78.8-2.07 0-2.86zM5.41 20L4 18.59l7.72-7.72 1.47 1.35L5.41 20z\"/>\n",
              "  </svg>\n",
              "      </button>\n",
              "      \n",
              "  <style>\n",
              "    .colab-df-container {\n",
              "      display:flex;\n",
              "      flex-wrap:wrap;\n",
              "      gap: 12px;\n",
              "    }\n",
              "\n",
              "    .colab-df-convert {\n",
              "      background-color: #E8F0FE;\n",
              "      border: none;\n",
              "      border-radius: 50%;\n",
              "      cursor: pointer;\n",
              "      display: none;\n",
              "      fill: #1967D2;\n",
              "      height: 32px;\n",
              "      padding: 0 0 0 0;\n",
              "      width: 32px;\n",
              "    }\n",
              "\n",
              "    .colab-df-convert:hover {\n",
              "      background-color: #E2EBFA;\n",
              "      box-shadow: 0px 1px 2px rgba(60, 64, 67, 0.3), 0px 1px 3px 1px rgba(60, 64, 67, 0.15);\n",
              "      fill: #174EA6;\n",
              "    }\n",
              "\n",
              "    [theme=dark] .colab-df-convert {\n",
              "      background-color: #3B4455;\n",
              "      fill: #D2E3FC;\n",
              "    }\n",
              "\n",
              "    [theme=dark] .colab-df-convert:hover {\n",
              "      background-color: #434B5C;\n",
              "      box-shadow: 0px 1px 3px 1px rgba(0, 0, 0, 0.15);\n",
              "      filter: drop-shadow(0px 1px 2px rgba(0, 0, 0, 0.3));\n",
              "      fill: #FFFFFF;\n",
              "    }\n",
              "  </style>\n",
              "\n",
              "      <script>\n",
              "        const buttonEl =\n",
              "          document.querySelector('#df-c774e3e5-7ca2-4884-8e34-1cd080a4f932 button.colab-df-convert');\n",
              "        buttonEl.style.display =\n",
              "          google.colab.kernel.accessAllowed ? 'block' : 'none';\n",
              "\n",
              "        async function convertToInteractive(key) {\n",
              "          const element = document.querySelector('#df-c774e3e5-7ca2-4884-8e34-1cd080a4f932');\n",
              "          const dataTable =\n",
              "            await google.colab.kernel.invokeFunction('convertToInteractive',\n",
              "                                                     [key], {});\n",
              "          if (!dataTable) return;\n",
              "\n",
              "          const docLinkHtml = 'Like what you see? Visit the ' +\n",
              "            '<a target=\"_blank\" href=https://colab.research.google.com/notebooks/data_table.ipynb>data table notebook</a>'\n",
              "            + ' to learn more about interactive tables.';\n",
              "          element.innerHTML = '';\n",
              "          dataTable['output_type'] = 'display_data';\n",
              "          await google.colab.output.renderOutput(dataTable, element);\n",
              "          const docLink = document.createElement('div');\n",
              "          docLink.innerHTML = docLinkHtml;\n",
              "          element.appendChild(docLink);\n",
              "        }\n",
              "      </script>\n",
              "    </div>\n",
              "  </div>\n",
              "  "
            ]
          },
          "metadata": {}
        }
      ],
      "source": [
        "display(df[['price','minimum_nights','number_of_reviews','reviews_per_month','availability_365']].describe())"
      ]
    },
    {
      "cell_type": "markdown",
      "metadata": {
        "id": "13P_S7PmrzoF"
      },
      "source": [
        "Ficou visível a presença de valor atípico ou outliers, que são valores muito acima da média, que podem implicar, tipicamente, em prejuízos à interpretação dos resultados dos testes estatísticos aplicados às amostras. Sendo necessário verificar se são valores reais ou algum tipo de erro que serão provavelmente descartados."
      ]
    },
    {
      "cell_type": "markdown",
      "metadata": {
        "id": "7x4aw1j5wNmn"
      },
      "source": [
        "### **Q4. Qual a média dos preços de aluguel?**"
      ]
    },
    {
      "cell_type": "markdown",
      "metadata": {
        "id": "2RuDrt3ywQLG"
      },
      "source": [
        "Começando a analise selecionando apenas a coluna 'price', podemos facilmente descobrir a média de preço das hospedagens.\n",
        "\n",
        "A média é calculada somando-se todos os valores de um conjunto de dados e dividindo-se pelo número de elementos deste conjunto."
      ]
    },
    {
      "cell_type": "code",
      "execution_count": 9,
      "metadata": {
        "colab": {
          "base_uri": "https://localhost:8080/"
        },
        "id": "ff-8gUahLk-C",
        "outputId": "dd03d62d-e808-4a4b-be12-5709fb317b12"
      },
      "outputs": [
        {
          "output_type": "stream",
          "name": "stdout",
          "text": [
            "A média de preço das hospendagens com todos os valore são: 182.08$\n"
          ]
        }
      ],
      "source": [
        "# ver a média da coluna `price``\n",
        "media_preço_full = df['price'].mean()\n",
        "print(f\"A média de preço das hospendagens com todos os valore são: {media_preço_full:.2f}$\")"
      ]
    },
    {
      "cell_type": "markdown",
      "metadata": {
        "id": "SybPZ2G-GZp2"
      },
      "source": [
        "Isso significa que a média de preço de hospedagem utilizando todos os valores, incluindo os outliers na região de New Brunswick, Canada é de aproximadamente 182."
      ]
    },
    {
      "cell_type": "markdown",
      "metadata": {
        "id": "5fI9KMIryGGb"
      },
      "source": [
        "Agora irmemos analisando os valores atípicos.\n"
      ]
    },
    {
      "cell_type": "code",
      "execution_count": 10,
      "metadata": {
        "colab": {
          "base_uri": "https://localhost:8080/"
        },
        "id": "RA39rXQ_yItj",
        "outputId": "7a530dcf-3ef6-4271-8d86-b6580655eb8d"
      },
      "outputs": [
        {
          "output_type": "stream",
          "name": "stdout",
          "text": [
            "Valor Médio = 182.08$\n",
            "Valor Máximo = 51000$\n",
            "Valor Minimo = 13$\n",
            "Relação entre total do dataset e os valores maiores que 650$ é: 3232 x 31 \n",
            "que equivalem a 0.96% do valores\n"
          ]
        }
      ],
      "source": [
        "tamanho_total = len(df['price'])\n",
        "tamanho_outliers = len(df[df['price']>650])\n",
        "print(f\"Valor Médio = {media_preço_full:.2f}$\")\n",
        "print(f\"Valor Máximo = {df['price'].max()}$\")\n",
        "print(f\"Valor Minimo = {df['price'].min()}$\")\n",
        "print(f'Relação entre total do dataset e os valores maiores que 650$ é: {tamanho_total} x {tamanho_outliers} ')\n",
        "print(f'que equivalem a {tamanho_outliers/df.shape[0]*100:.2f}% do valores')\n",
        "\n"
      ]
    },
    {
      "cell_type": "markdown",
      "metadata": {
        "id": "vW3zehlw0AAA"
      },
      "source": [
        "Como temos alguns valores atípicos, foi decidido não considerar alguns valores como, por exemplo, um anúncio custando 51000 por noite. 31 anúncios foram descartados, que representam 0,96% do dataset, esses valores são todos os valores superiores a 650 e apresentam um grande afastamento das demais da série."
      ]
    },
    {
      "cell_type": "markdown",
      "metadata": {
        "id": "DhswtSw2xlod"
      },
      "source": [
        "Criando outro dataset sem os valores atípicos.\n",
        "\n"
      ]
    },
    {
      "cell_type": "code",
      "execution_count": 11,
      "metadata": {
        "id": "ethH9pcFx6Ij"
      },
      "outputs": [],
      "source": [
        "#df_padrao = df.drop(df[(df['price']>650) & (df['number_of_reviews']<2)].index)\n",
        "#df_padrao.hist(figsize=(15,10));\n",
        "df_padrao = df.drop(df[df['price']>650].index).copy()"
      ]
    },
    {
      "cell_type": "markdown",
      "metadata": {
        "id": "NoNUTrs1Xu6J"
      },
      "source": [
        "Comparando a média usando todos os valores e a média sem os valores atípicos.\n"
      ]
    },
    {
      "cell_type": "code",
      "execution_count": 12,
      "metadata": {
        "colab": {
          "base_uri": "https://localhost:8080/"
        },
        "id": "_P-QUkEzXugp",
        "outputId": "8c156b68-4692-44f4-ecf0-2918b1fa25b3"
      },
      "outputs": [
        {
          "output_type": "stream",
          "name": "stdout",
          "text": [
            "Sem os valores atípicos:\n",
            "Valor Médio = 157.72$\n",
            "Valor Máximo = 640$\n",
            "Valor Minimo = 13$\n",
            "Diferença de 13.38% no valor médio\n"
          ]
        }
      ],
      "source": [
        "media_sem_outliers = df_padrao['price'].mean()\n",
        "print('Sem os valores atípicos:')\n",
        "print(f\"Valor Médio = {media_sem_outliers:.2f}$\")\n",
        "print(f\"Valor Máximo = {df_padrao['price'].max()}$\")\n",
        "print(f\"Valor Minimo = {df_padrao['price'].min()}$\")\n",
        "diferenca = ((media_preço_full)-(media_sem_outliers))*100/media_preço_full\n",
        "print(f'Diferença de {diferenca:.2f}% no valor médio')\n"
      ]
    },
    {
      "cell_type": "markdown",
      "metadata": {
        "id": "MYO4Xk47ICNk"
      },
      "source": [
        "O Valor Médio como todo os dados foi aproximadamente 182$ e o valor médio sem os valores atípicos foi de aproximadamente 158$, uma diferença de cerca de 24$ ou 13%.\n"
      ]
    },
    {
      "cell_type": "markdown",
      "metadata": {
        "id": "IXn2oIo5qx-w"
      },
      "source": [
        "### **Q4. Qual a correlação existente entre as variáveis**"
      ]
    },
    {
      "cell_type": "markdown",
      "metadata": {
        "id": "dcAYLm3eJD1x"
      },
      "source": [
        "Uma matriz de correlação é uma tabela que indica os coeficientes de conexão entre os fatores. Cada célula da tabela mostra a conexão entre os dois fatores. A correlação é um número que varia entre -1 e 1. Em estatística é representado pela letra r. Uma correlação pode ser positiva(r > 0), o que significa que ambas as variáveis se movem na mesma direção ou são negativas(r < 0), o que significa que se movem em direções opostas, ou seja, quando o valor de uma variável aumenta, o valor da outra variáveis diminui. A correlação também pode ser nula ou zero, o que significa que as variáveis não estão relacionadas.\n",
        "\n",
        "\n",
        "* Correlação positiva: ambas as variáveis mudam na mesma direção.\n",
        "* Correlação Nula: Nenhuma relação na mudança das variáveis\n",
        "* Correlação Negativa: as variáveis mudam em direções opostas."
      ]
    },
    {
      "cell_type": "code",
      "execution_count": 13,
      "metadata": {
        "colab": {
          "base_uri": "https://localhost:8080/",
          "height": 238
        },
        "id": "x2ayzBajqxyd",
        "outputId": "891ae050-aa8b-49b5-9166-62cedadae6aa"
      },
      "outputs": [
        {
          "output_type": "execute_result",
          "data": {
            "text/plain": [
              "                                   price  minimum_nights  number_of_reviews  \\\n",
              "price                           1.000000        0.046245          -0.117887   \n",
              "minimum_nights                  0.046245        1.000000          -0.058982   \n",
              "number_of_reviews              -0.117887       -0.058982           1.000000   \n",
              "reviews_per_month              -0.119119       -0.159625           0.325060   \n",
              "calculated_host_listings_count -0.123582       -0.059669          -0.081375   \n",
              "availability_365                0.068591       -0.020178           0.015035   \n",
              "\n",
              "                                reviews_per_month  \\\n",
              "price                                   -0.119119   \n",
              "minimum_nights                          -0.159625   \n",
              "number_of_reviews                        0.325060   \n",
              "reviews_per_month                        1.000000   \n",
              "calculated_host_listings_count          -0.088069   \n",
              "availability_365                         0.078517   \n",
              "\n",
              "                                calculated_host_listings_count  \\\n",
              "price                                                -0.123582   \n",
              "minimum_nights                                       -0.059669   \n",
              "number_of_reviews                                    -0.081375   \n",
              "reviews_per_month                                    -0.088069   \n",
              "calculated_host_listings_count                        1.000000   \n",
              "availability_365                                     -0.081319   \n",
              "\n",
              "                                availability_365  \n",
              "price                                   0.068591  \n",
              "minimum_nights                         -0.020178  \n",
              "number_of_reviews                       0.015035  \n",
              "reviews_per_month                       0.078517  \n",
              "calculated_host_listings_count         -0.081319  \n",
              "availability_365                        1.000000  "
            ],
            "text/html": [
              "\n",
              "  <div id=\"df-2b36f359-390d-42ca-8328-c3881a0f8cde\">\n",
              "    <div class=\"colab-df-container\">\n",
              "      <div>\n",
              "<style scoped>\n",
              "    .dataframe tbody tr th:only-of-type {\n",
              "        vertical-align: middle;\n",
              "    }\n",
              "\n",
              "    .dataframe tbody tr th {\n",
              "        vertical-align: top;\n",
              "    }\n",
              "\n",
              "    .dataframe thead th {\n",
              "        text-align: right;\n",
              "    }\n",
              "</style>\n",
              "<table border=\"1\" class=\"dataframe\">\n",
              "  <thead>\n",
              "    <tr style=\"text-align: right;\">\n",
              "      <th></th>\n",
              "      <th>price</th>\n",
              "      <th>minimum_nights</th>\n",
              "      <th>number_of_reviews</th>\n",
              "      <th>reviews_per_month</th>\n",
              "      <th>calculated_host_listings_count</th>\n",
              "      <th>availability_365</th>\n",
              "    </tr>\n",
              "  </thead>\n",
              "  <tbody>\n",
              "    <tr>\n",
              "      <th>price</th>\n",
              "      <td>1.000000</td>\n",
              "      <td>0.046245</td>\n",
              "      <td>-0.117887</td>\n",
              "      <td>-0.119119</td>\n",
              "      <td>-0.123582</td>\n",
              "      <td>0.068591</td>\n",
              "    </tr>\n",
              "    <tr>\n",
              "      <th>minimum_nights</th>\n",
              "      <td>0.046245</td>\n",
              "      <td>1.000000</td>\n",
              "      <td>-0.058982</td>\n",
              "      <td>-0.159625</td>\n",
              "      <td>-0.059669</td>\n",
              "      <td>-0.020178</td>\n",
              "    </tr>\n",
              "    <tr>\n",
              "      <th>number_of_reviews</th>\n",
              "      <td>-0.117887</td>\n",
              "      <td>-0.058982</td>\n",
              "      <td>1.000000</td>\n",
              "      <td>0.325060</td>\n",
              "      <td>-0.081375</td>\n",
              "      <td>0.015035</td>\n",
              "    </tr>\n",
              "    <tr>\n",
              "      <th>reviews_per_month</th>\n",
              "      <td>-0.119119</td>\n",
              "      <td>-0.159625</td>\n",
              "      <td>0.325060</td>\n",
              "      <td>1.000000</td>\n",
              "      <td>-0.088069</td>\n",
              "      <td>0.078517</td>\n",
              "    </tr>\n",
              "    <tr>\n",
              "      <th>calculated_host_listings_count</th>\n",
              "      <td>-0.123582</td>\n",
              "      <td>-0.059669</td>\n",
              "      <td>-0.081375</td>\n",
              "      <td>-0.088069</td>\n",
              "      <td>1.000000</td>\n",
              "      <td>-0.081319</td>\n",
              "    </tr>\n",
              "    <tr>\n",
              "      <th>availability_365</th>\n",
              "      <td>0.068591</td>\n",
              "      <td>-0.020178</td>\n",
              "      <td>0.015035</td>\n",
              "      <td>0.078517</td>\n",
              "      <td>-0.081319</td>\n",
              "      <td>1.000000</td>\n",
              "    </tr>\n",
              "  </tbody>\n",
              "</table>\n",
              "</div>\n",
              "      <button class=\"colab-df-convert\" onclick=\"convertToInteractive('df-2b36f359-390d-42ca-8328-c3881a0f8cde')\"\n",
              "              title=\"Convert this dataframe to an interactive table.\"\n",
              "              style=\"display:none;\">\n",
              "        \n",
              "  <svg xmlns=\"http://www.w3.org/2000/svg\" height=\"24px\"viewBox=\"0 0 24 24\"\n",
              "       width=\"24px\">\n",
              "    <path d=\"M0 0h24v24H0V0z\" fill=\"none\"/>\n",
              "    <path d=\"M18.56 5.44l.94 2.06.94-2.06 2.06-.94-2.06-.94-.94-2.06-.94 2.06-2.06.94zm-11 1L8.5 8.5l.94-2.06 2.06-.94-2.06-.94L8.5 2.5l-.94 2.06-2.06.94zm10 10l.94 2.06.94-2.06 2.06-.94-2.06-.94-.94-2.06-.94 2.06-2.06.94z\"/><path d=\"M17.41 7.96l-1.37-1.37c-.4-.4-.92-.59-1.43-.59-.52 0-1.04.2-1.43.59L10.3 9.45l-7.72 7.72c-.78.78-.78 2.05 0 2.83L4 21.41c.39.39.9.59 1.41.59.51 0 1.02-.2 1.41-.59l7.78-7.78 2.81-2.81c.8-.78.8-2.07 0-2.86zM5.41 20L4 18.59l7.72-7.72 1.47 1.35L5.41 20z\"/>\n",
              "  </svg>\n",
              "      </button>\n",
              "      \n",
              "  <style>\n",
              "    .colab-df-container {\n",
              "      display:flex;\n",
              "      flex-wrap:wrap;\n",
              "      gap: 12px;\n",
              "    }\n",
              "\n",
              "    .colab-df-convert {\n",
              "      background-color: #E8F0FE;\n",
              "      border: none;\n",
              "      border-radius: 50%;\n",
              "      cursor: pointer;\n",
              "      display: none;\n",
              "      fill: #1967D2;\n",
              "      height: 32px;\n",
              "      padding: 0 0 0 0;\n",
              "      width: 32px;\n",
              "    }\n",
              "\n",
              "    .colab-df-convert:hover {\n",
              "      background-color: #E2EBFA;\n",
              "      box-shadow: 0px 1px 2px rgba(60, 64, 67, 0.3), 0px 1px 3px 1px rgba(60, 64, 67, 0.15);\n",
              "      fill: #174EA6;\n",
              "    }\n",
              "\n",
              "    [theme=dark] .colab-df-convert {\n",
              "      background-color: #3B4455;\n",
              "      fill: #D2E3FC;\n",
              "    }\n",
              "\n",
              "    [theme=dark] .colab-df-convert:hover {\n",
              "      background-color: #434B5C;\n",
              "      box-shadow: 0px 1px 3px 1px rgba(0, 0, 0, 0.15);\n",
              "      filter: drop-shadow(0px 1px 2px rgba(0, 0, 0, 0.3));\n",
              "      fill: #FFFFFF;\n",
              "    }\n",
              "  </style>\n",
              "\n",
              "      <script>\n",
              "        const buttonEl =\n",
              "          document.querySelector('#df-2b36f359-390d-42ca-8328-c3881a0f8cde button.colab-df-convert');\n",
              "        buttonEl.style.display =\n",
              "          google.colab.kernel.accessAllowed ? 'block' : 'none';\n",
              "\n",
              "        async function convertToInteractive(key) {\n",
              "          const element = document.querySelector('#df-2b36f359-390d-42ca-8328-c3881a0f8cde');\n",
              "          const dataTable =\n",
              "            await google.colab.kernel.invokeFunction('convertToInteractive',\n",
              "                                                     [key], {});\n",
              "          if (!dataTable) return;\n",
              "\n",
              "          const docLinkHtml = 'Like what you see? Visit the ' +\n",
              "            '<a target=\"_blank\" href=https://colab.research.google.com/notebooks/data_table.ipynb>data table notebook</a>'\n",
              "            + ' to learn more about interactive tables.';\n",
              "          element.innerHTML = '';\n",
              "          dataTable['output_type'] = 'display_data';\n",
              "          await google.colab.output.renderOutput(dataTable, element);\n",
              "          const docLink = document.createElement('div');\n",
              "          docLink.innerHTML = docLinkHtml;\n",
              "          element.appendChild(docLink);\n",
              "        }\n",
              "      </script>\n",
              "    </div>\n",
              "  </div>\n",
              "  "
            ]
          },
          "metadata": {},
          "execution_count": 13
        }
      ],
      "source": [
        "# criar uma matriz de correlação\n",
        "corr=df_padrao[['price','minimum_nights','number_of_reviews','reviews_per_month','calculated_host_listings_count','availability_365']].corr()\n",
        "\n",
        "# mostrar a matriz de correlação\n",
        "corr"
      ]
    },
    {
      "cell_type": "code",
      "execution_count": 14,
      "metadata": {
        "colab": {
          "base_uri": "https://localhost:8080/",
          "height": 411
        },
        "id": "91UujDr6ueqE",
        "outputId": "21439ef6-a98d-4d59-b9e2-4ce6ee31ed10"
      },
      "outputs": [
        {
          "output_type": "display_data",
          "data": {
            "text/plain": [
              "<Figure size 432x288 with 2 Axes>"
            ],
            "image/png": "[encoded data removed]"
          },
          "metadata": {
            "needs_background": "light"
          }
        }
      ],
      "source": [
        "# plotar um heatmap a partir das correlações\n",
        "sns.heatmap(corr,fmt='.2f', square=True,linecolor='white', annot=True);"
      ]
    },
    {
      "cell_type": "markdown",
      "metadata": {
        "id": "7b6RMWpuHKN-"
      },
      "source": [
        "### **Q5. Qual o tipo de imóvel mais alugado no Airbnb?**"
      ]
    },
    {
      "cell_type": "markdown",
      "metadata": {
        "id": "6Pfwkx9-i2sd"
      },
      "source": [
        "Para acharmos o tipo de imóvel mais alugado, podemos simplesmente identificar qual valor mais se repete na coluna \"room_type\". Primeiramente vamos ver quanto temos de cada imóvel e depois analisar quanto isso representa em porcentagem.\n",
        "\n",
        "\n"
      ]
    },
    {
      "cell_type": "code",
      "execution_count": 15,
      "metadata": {
        "colab": {
          "base_uri": "https://localhost:8080/"
        },
        "id": "ueLPNWvPHgfB",
        "outputId": "26982778-c286-4a1d-feb9-88d95f123214"
      },
      "outputs": [
        {
          "output_type": "execute_result",
          "data": {
            "text/plain": [
              "Entire home/apt    2544\n",
              "Private room        651\n",
              "Hotel room            4\n",
              "Shared room           2\n",
              "Name: room_type, dtype: int64"
            ]
          },
          "metadata": {},
          "execution_count": 15
        }
      ],
      "source": [
        "# mostrar a quantidade de cada tipo de imóvel disponível\n",
        "df_padrao['room_type'].value_counts()"
      ]
    },
    {
      "cell_type": "markdown",
      "metadata": {
        "id": "046aQJwembSY"
      },
      "source": [
        "Para achar a porcentagem de cada tipo de imóvel, vamos dividir a soma da quantidade de cada imóvel pelo total de imóveis e depois multiplicar por 100.\n",
        "\n",
        "Por exemplo, Entire home/apt tem 2544, ficaria (2544/3200)*100 = 79.5%"
      ]
    },
    {
      "cell_type": "code",
      "execution_count": 16,
      "metadata": {
        "colab": {
          "base_uri": "https://localhost:8080/"
        },
        "id": "EvwoO-XAHhIm",
        "outputId": "70f9772c-3a09-4e6c-9f8b-d381a8f9430a"
      },
      "outputs": [
        {
          "output_type": "stream",
          "name": "stdout",
          "text": [
            "79.48% dos imóveis são do tipo Entire home/apt\n",
            "20.34% dos imóveis são do tipo Private room\n",
            "0.12% dos imóveis são do tipo Hotel room\n",
            "0.06% dos imóveis são do tipo Shared room\n"
          ]
        }
      ],
      "source": [
        "# mostrar a porcentagem de cada tipo de imóvel disponível\n",
        "\n",
        "imoveis = dict(df_padrao['room_type'].value_counts()/df_padrao.shape[0]*100)\n",
        "for v,k in imoveis.items():\n",
        "  print(f'{k:.2f}% dos imóveis são do tipo {v}')\n"
      ]
    },
    {
      "cell_type": "markdown",
      "metadata": {
        "id": "MFa5NbnLJMcd"
      },
      "source": [
        "### **Q6. Qual a localidade mais cara do dataset?**\n",
        "\n"
      ]
    },
    {
      "cell_type": "markdown",
      "metadata": {
        "id": "DU5ApW4im5v1"
      },
      "source": [
        "Para acharmos a localidade com a média de aluguel mais cara, vamos juntar(agrupar) nosso dataset por localidade, depois vamos tirar a média de preço de cada localidade. A região que tiver o maior valor, será teoricamente a região mais cara."
      ]
    },
    {
      "cell_type": "code",
      "execution_count": 17,
      "metadata": {
        "colab": {
          "base_uri": "https://localhost:8080/"
        },
        "id": "MD_xa143JZpi",
        "outputId": "612017b6-8515-483e-c0a6-ae73a1b461f6"
      },
      "outputs": [
        {
          "output_type": "stream",
          "name": "stdout",
          "text": [
            "Saint-Andre    \t400.00$ \n",
            "Dufferin    \t305.40$ \n",
            "North Lake    \t281.29$ \n",
            "Kars    \t256.67$ \n",
            "Hardwicke    \t234.89$ \n",
            "Musquash    \t233.33$ \n",
            "Saint David    \t228.14$ \n",
            "Weldford    \t226.58$ \n",
            "Campobello    \t225.56$ \n",
            "West Isles    \t224.22$ \n"
          ]
        }
      ],
      "source": [
        "# ver preços por bairros, na média\n",
        "a = df_padrao.groupby(df_padrao['neighbourhood'])['price'].mean().sort_values(ascending=False)[:10]\n",
        "#case2 = df.groupby(df['neighbourhood'])['price'].mean().sort_values(ascending=False)[:10]\n",
        "for city,prices in a.items():\n",
        "  print(f'{city}    \\t{prices:.2f}$ ')"
      ]
    },
    {
      "cell_type": "markdown",
      "metadata": {
        "id": "pYYkab1Z2yPK"
      },
      "source": [
        "A região de Saint-Andre aparece como a região mais cara, mas isso pode não ser realmente verdade, uma vez que a região só apresenta um único registro, como poder ser visto logo abaixo.\n"
      ]
    },
    {
      "cell_type": "code",
      "execution_count": 18,
      "metadata": {
        "colab": {
          "base_uri": "https://localhost:8080/",
          "height": 232
        },
        "id": "hrBsyLlL3MZh",
        "outputId": "9698f6ff-6e80-454d-9dcb-b4eee08fa909"
      },
      "outputs": [
        {
          "output_type": "execute_result",
          "data": {
            "text/plain": [
              "                      id                                 name    host_id  \\\n",
              "2709  641473311101080773  MOTEL LEO, Grand Falls, NB, Canada.  107908941   \n",
              "\n",
              "     host_name neighbourhood_group neighbourhood   latitude  longitude  \\\n",
              "2709        Vj           Madawaska   Saint-Andre  47.069937 -67.785651   \n",
              "\n",
              "         room_type  price  minimum_nights  number_of_reviews last_review  \\\n",
              "2709  Private room    400               3                  2  2022-08-21   \n",
              "\n",
              "      reviews_per_month  calculated_host_listings_count  availability_365  \\\n",
              "2709               1.09                               1               364   \n",
              "\n",
              "      number_of_reviews_ltm license  \n",
              "2709                      2     NaN  "
            ],
            "text/html": [
              "\n",
              "  <div id=\"df-59f17ed1-ef54-4053-85a9-81e7a311808a\">\n",
              "    <div class=\"colab-df-container\">\n",
              "      <div>\n",
              "<style scoped>\n",
              "    .dataframe tbody tr th:only-of-type {\n",
              "        vertical-align: middle;\n",
              "    }\n",
              "\n",
              "    .dataframe tbody tr th {\n",
              "        vertical-align: top;\n",
              "    }\n",
              "\n",
              "    .dataframe thead th {\n",
              "        text-align: right;\n",
              "    }\n",
              "</style>\n",
              "<table border=\"1\" class=\"dataframe\">\n",
              "  <thead>\n",
              "    <tr style=\"text-align: right;\">\n",
              "      <th></th>\n",
              "      <th>id</th>\n",
              "      <th>name</th>\n",
              "      <th>host_id</th>\n",
              "      <th>host_name</th>\n",
              "      <th>neighbourhood_group</th>\n",
              "      <th>neighbourhood</th>\n",
              "      <th>latitude</th>\n",
              "      <th>longitude</th>\n",
              "      <th>room_type</th>\n",
              "      <th>price</th>\n",
              "      <th>minimum_nights</th>\n",
              "      <th>number_of_reviews</th>\n",
              "      <th>last_review</th>\n",
              "      <th>reviews_per_month</th>\n",
              "      <th>calculated_host_listings_count</th>\n",
              "      <th>availability_365</th>\n",
              "      <th>number_of_reviews_ltm</th>\n",
              "      <th>license</th>\n",
              "    </tr>\n",
              "  </thead>\n",
              "  <tbody>\n",
              "    <tr>\n",
              "      <th>2709</th>\n",
              "      <td>641473311101080773</td>\n",
              "      <td>MOTEL LEO, Grand Falls, NB, Canada.</td>\n",
              "      <td>107908941</td>\n",
              "      <td>Vj</td>\n",
              "      <td>Madawaska</td>\n",
              "      <td>Saint-Andre</td>\n",
              "      <td>47.069937</td>\n",
              "      <td>-67.785651</td>\n",
              "      <td>Private room</td>\n",
              "      <td>400</td>\n",
              "      <td>3</td>\n",
              "      <td>2</td>\n",
              "      <td>2022-08-21</td>\n",
              "      <td>1.09</td>\n",
              "      <td>1</td>\n",
              "      <td>364</td>\n",
              "      <td>2</td>\n",
              "      <td>NaN</td>\n",
              "    </tr>\n",
              "  </tbody>\n",
              "</table>\n",
              "</div>\n",
              "      <button class=\"colab-df-convert\" onclick=\"convertToInteractive('df-59f17ed1-ef54-4053-85a9-81e7a311808a')\"\n",
              "              title=\"Convert this dataframe to an interactive table.\"\n",
              "              style=\"display:none;\">\n",
              "        \n",
              "  <svg xmlns=\"http://www.w3.org/2000/svg\" height=\"24px\"viewBox=\"0 0 24 24\"\n",
              "       width=\"24px\">\n",
              "    <path d=\"M0 0h24v24H0V0z\" fill=\"none\"/>\n",
              "    <path d=\"M18.56 5.44l.94 2.06.94-2.06 2.06-.94-2.06-.94-.94-2.06-.94 2.06-2.06.94zm-11 1L8.5 8.5l.94-2.06 2.06-.94-2.06-.94L8.5 2.5l-.94 2.06-2.06.94zm10 10l.94 2.06.94-2.06 2.06-.94-2.06-.94-.94-2.06-.94 2.06-2.06.94z\"/><path d=\"M17.41 7.96l-1.37-1.37c-.4-.4-.92-.59-1.43-.59-.52 0-1.04.2-1.43.59L10.3 9.45l-7.72 7.72c-.78.78-.78 2.05 0 2.83L4 21.41c.39.39.9.59 1.41.59.51 0 1.02-.2 1.41-.59l7.78-7.78 2.81-2.81c.8-.78.8-2.07 0-2.86zM5.41 20L4 18.59l7.72-7.72 1.47 1.35L5.41 20z\"/>\n",
              "  </svg>\n",
              "      </button>\n",
              "      \n",
              "  <style>\n",
              "    .colab-df-container {\n",
              "      display:flex;\n",
              "      flex-wrap:wrap;\n",
              "      gap: 12px;\n",
              "    }\n",
              "\n",
              "    .colab-df-convert {\n",
              "      background-color: #E8F0FE;\n",
              "      border: none;\n",
              "      border-radius: 50%;\n",
              "      cursor: pointer;\n",
              "      display: none;\n",
              "      fill: #1967D2;\n",
              "      height: 32px;\n",
              "      padding: 0 0 0 0;\n",
              "      width: 32px;\n",
              "    }\n",
              "\n",
              "    .colab-df-convert:hover {\n",
              "      background-color: #E2EBFA;\n",
              "      box-shadow: 0px 1px 2px rgba(60, 64, 67, 0.3), 0px 1px 3px 1px rgba(60, 64, 67, 0.15);\n",
              "      fill: #174EA6;\n",
              "    }\n",
              "\n",
              "    [theme=dark] .colab-df-convert {\n",
              "      background-color: #3B4455;\n",
              "      fill: #D2E3FC;\n",
              "    }\n",
              "\n",
              "    [theme=dark] .colab-df-convert:hover {\n",
              "      background-color: #434B5C;\n",
              "      box-shadow: 0px 1px 3px 1px rgba(0, 0, 0, 0.15);\n",
              "      filter: drop-shadow(0px 1px 2px rgba(0, 0, 0, 0.3));\n",
              "      fill: #FFFFFF;\n",
              "    }\n",
              "  </style>\n",
              "\n",
              "      <script>\n",
              "        const buttonEl =\n",
              "          document.querySelector('#df-59f17ed1-ef54-4053-85a9-81e7a311808a button.colab-df-convert');\n",
              "        buttonEl.style.display =\n",
              "          google.colab.kernel.accessAllowed ? 'block' : 'none';\n",
              "\n",
              "        async function convertToInteractive(key) {\n",
              "          const element = document.querySelector('#df-59f17ed1-ef54-4053-85a9-81e7a311808a');\n",
              "          const dataTable =\n",
              "            await google.colab.kernel.invokeFunction('convertToInteractive',\n",
              "                                                     [key], {});\n",
              "          if (!dataTable) return;\n",
              "\n",
              "          const docLinkHtml = 'Like what you see? Visit the ' +\n",
              "            '<a target=\"_blank\" href=https://colab.research.google.com/notebooks/data_table.ipynb>data table notebook</a>'\n",
              "            + ' to learn more about interactive tables.';\n",
              "          element.innerHTML = '';\n",
              "          dataTable['output_type'] = 'display_data';\n",
              "          await google.colab.output.renderOutput(dataTable, element);\n",
              "          const docLink = document.createElement('div');\n",
              "          docLink.innerHTML = docLinkHtml;\n",
              "          element.appendChild(docLink);\n",
              "        }\n",
              "      </script>\n",
              "    </div>\n",
              "  </div>\n",
              "  "
            ]
          },
          "metadata": {},
          "execution_count": 18
        }
      ],
      "source": [
        "df_padrao[df_padrao['neighbourhood']=='Saint-Andre']"
      ]
    },
    {
      "cell_type": "code",
      "execution_count": 19,
      "metadata": {
        "colab": {
          "base_uri": "https://localhost:8080/",
          "height": 592
        },
        "id": "UxVJqJ_3W59I",
        "outputId": "dbb3bb8c-5a6e-416f-a7bc-4fc5107aa153"
      },
      "outputs": [
        {
          "output_type": "display_data",
          "data": {
            "text/plain": [
              "<Figure size 1080x720 with 1 Axes>"
            ],
            "image/png": "[encoded data removed]"
          },
          "metadata": {
            "needs_background": "light"
          }
        }
      ],
      "source": [
        "# plotar os imóveis pela latitude-longitude\n",
        "plt.figure(figsize=(15,10))\n",
        "plt.scatter(df_padrao['latitude'].values,df_padrao['longitude'].values, s=5,c='blue',alpha=0.5,zorder=5);\n"
      ]
    },
    {
      "cell_type": "markdown",
      "metadata": {
        "id": "tGKfYY5k3pnW"
      },
      "source": [
        "A partir dos dados de latitude e longitude presentes no dataset é possível visualizar um mapa de calor dos imóveis \n"
      ]
    },
    {
      "cell_type": "code",
      "execution_count": 20,
      "metadata": {
        "colab": {
          "base_uri": "https://localhost:8080/",
          "height": 880
        },
        "id": "Cg6nJrk-yYV6",
        "outputId": "4e04357e-117e-489a-a710-473a22c8d19d"
      },
      "outputs": [
        {
          "output_type": "execute_result",
          "data": {
            "text/plain": [
              "<folium.folium.Map at 0x7f799f65b910>"
            ],
            "text/html": [
              "<div style=\"width:100%;\"><div style=\"position:relative;width:100%;height:0;padding-bottom:60%;\"><span style=\"color:#565656\">Make this Notebook Trusted to load map: File -> Trust Notebook</span><iframe srcdoc=\"&lt;!DOCTYPE html&gt;\n",
              "&lt;html&gt;\n",
              "&lt;head&gt;\n",
              "    \n",
              "    &lt;meta http-equiv=&quot;content-type&quot; content=&quot;text/html; charset=UTF-8&quot; /&gt;\n",
              "    \n",
              "        &lt;script&gt;\n",
              "            L_NO_TOUCH = false;\n",
              "            L_DISABLE_3D = false;\n",
              "        &lt;/script&gt;\n",
              "    \n",
              "    &lt;style&gt;html, body {width: 100%;height: 100%;margin: 0;padding: 0;}&lt;/style&gt;\n",
              "    &lt;style&gt;#map {position:absolute;top:0;bottom:0;right:0;left:0;}&lt;/style&gt;\n",
              "    &lt;script src=&quot;https://cdn.jsdelivr.net/npm/leaflet@1.6.0/dist/leaflet.js&quot;&gt;&lt;/script&gt;\n",
              "    &lt;script src=&quot;https://code.jquery.com/jquery-1.12.4.min.js&quot;&gt;&lt;/script&gt;\n",
              "    &lt;script src=&quot;https://maxcdn.bootstrapcdn.com/bootstrap/3.2.0/js/bootstrap.min.js&quot;&gt;&lt;/script&gt;\n",
              "    &lt;script src=&quot;https://cdnjs.cloudflare.com/ajax/libs/Leaflet.awesome-markers/2.0.2/leaflet.awesome-markers.js&quot;&gt;&lt;/script&gt;\n",
              "    &lt;link rel=&quot;stylesheet&quot; href=&quot;https://cdn.jsdelivr.net/npm/leaflet@1.6.0/dist/leaflet.css&quot;/&gt;\n",
              "    &lt;link rel=&quot;stylesheet&quot; href=&quot;https://maxcdn.bootstrapcdn.com/bootstrap/3.2.0/css/bootstrap.min.css&quot;/&gt;\n",
              "    &lt;link rel=&quot;stylesheet&quot; href=&quot;https://maxcdn.bootstrapcdn.com/bootstrap/3.2.0/css/bootstrap-theme.min.css&quot;/&gt;\n",
              "    &lt;link rel=&quot;stylesheet&quot; href=&quot;https://maxcdn.bootstrapcdn.com/font-awesome/4.6.3/css/font-awesome.min.css&quot;/&gt;\n",
              "    &lt;link rel=&quot;stylesheet&quot; href=&quot;https://cdnjs.cloudflare.com/ajax/libs/Leaflet.awesome-markers/2.0.2/leaflet.awesome-markers.css&quot;/&gt;\n",
              "    &lt;link rel=&quot;stylesheet&quot; href=&quot;https://cdn.jsdelivr.net/gh/python-visualization/folium/folium/templates/leaflet.awesome.rotate.min.css&quot;/&gt;\n",
              "    \n",
              "            &lt;meta name=&quot;viewport&quot; content=&quot;width=device-width,\n",
              "                initial-scale=1.0, maximum-scale=1.0, user-scalable=no&quot; /&gt;\n",
              "            &lt;style&gt;\n",
              "                #map_ce946af0cbf96d813849e1b9278fc2d6 {\n",
              "                    position: relative;\n",
              "                    width: 100.0%;\n",
              "                    height: 100.0%;\n",
              "                    left: 0.0%;\n",
              "                    top: 0.0%;\n",
              "                }\n",
              "            &lt;/style&gt;\n",
              "        \n",
              "    &lt;script src=&quot;https://cdn.jsdelivr.net/gh/python-visualization/folium@master/folium/templates/leaflet_heat.min.js&quot;&gt;&lt;/script&gt;\n",
              "&lt;/head&gt;\n",
              "&lt;body&gt;\n",
              "    \n",
              "    \n",
              "            &lt;div class=&quot;folium-map&quot; id=&quot;map_ce946af0cbf96d813849e1b9278fc2d6&quot; &gt;&lt;/div&gt;\n",
              "        \n",
              "&lt;/body&gt;\n",
              "&lt;script&gt;\n",
              "    \n",
              "    \n",
              "            var map_ce946af0cbf96d813849e1b9278fc2d6 = L.map(\n",
              "                &quot;map_ce946af0cbf96d813849e1b9278fc2d6&quot;,\n",
              "                {\n",
              "                    center: [46.10555, -64.81432],\n",
              "                    crs: L.CRS.EPSG3857,\n",
              "                    zoom: 5.5,\n",
              "                    zoomControl: true,\n",
              "                    preferCanvas: false,\n",
              "                }\n",
              "            );\n",
              "\n",
              "            \n",
              "\n",
              "        \n",
              "    \n",
              "            var tile_layer_c30c324164d3231a588fdd223f041435 = L.tileLayer(\n",
              "                &quot;https://{s}.tile.openstreetmap.org/{z}/{x}/{y}.png&quot;,\n",
              "                {&quot;attribution&quot;: &quot;Data by \\u0026copy; \\u003ca href=\\&quot;http://openstreetmap.org\\&quot;\\u003eOpenStreetMap\\u003c/a\\u003e, under \\u003ca href=\\&quot;http://www.openstreetmap.org/copyright\\&quot;\\u003eODbL\\u003c/a\\u003e.&quot;, &quot;detectRetina&quot;: false, &quot;maxNativeZoom&quot;: 18, &quot;maxZoom&quot;: 18, &quot;minZoom&quot;: 4, &quot;noWrap&quot;: false, &quot;opacity&quot;: 1, &quot;subdomains&quot;: &quot;abc&quot;, &quot;tms&quot;: false}\n",
              "            ).addTo(map_ce946af0cbf96d813849e1b9278fc2d6);\n",
              "        \n",
              "    \n",
              "            var heat_map_9b665fdea9437fadbbaddb46868bedcc = L.heatLayer(\n",
              "                [[45.13241, -67.04725], [46.32857, -64.52445], [45.27727, -66.0604], [45.16902, -67.24404], [47.86785, -64.52187], [46.10555, -64.81432], [45.27233, -66.05694], [45.78008, -66.14374], [45.27358, -66.05307], [45.97722, -66.84614], [45.27406, -66.05772], [45.64933, -65.8593], [45.64943, -65.86004], [44.85881, -66.99247], [45.44755, -66.00487], [45.94133, -64.66544], [47.1967, -65.14315], [45.95745, -66.63637], [45.27354, -66.05299], [45.0635, -66.82176], [45.11858, -66.37346], [45.95817, -66.63426], [45.0754, -67.05535], [44.9166, -66.99877], [45.93823, -66.64044], [46.23471, -64.51617], [46.47954, -64.69794], [46.23732, -64.5119], [45.0969, -67.07441], [45.77091, -64.65566], [45.95794, -66.63522], [46.04963, -64.08476], [46.04932, -64.08544], [46.15525, -65.89744], [45.65058, -64.73643], [45.18436, -67.26629], [45.18436, -67.26629], [44.9059, -66.98433], [46.23736, -64.50755], [45.27057, -66.06036], [46.06336, -64.71014], [46.49781, -64.67743], [45.11581, -66.58463], [47.58141, -67.38104], [45.96431, -66.62439], [45.12055, -66.47492], [46.09601, -64.79074], [46.23591, -64.5025], [45.9748, -67.24077], [46.04486, -65.15686], [45.18502, -66.99258], [45.27358, -66.05307], [44.65031, -66.84735], [45.27358, -66.05307], [45.76551, -65.97717], [46.09771, -64.78947], [45.6517, -64.73813], [45.65148, -64.7364], [45.98422, -66.76228], [45.91816, -64.64286], [47.9876, -64.53674], [45.9522, -66.64448], [46.59442, -67.72127], [44.62293, -66.72363], [46.59674, -64.9102], [45.63206, -64.85833], [46.21399, -64.5958], [45.68753, -65.51257], [45.68504, -65.51369], [47.75528, -64.74363], [45.82759, -67.54136], [46.33506, -64.61717], [46.32972, -64.68327], [45.96445, -66.62423], [45.99963, -66.57538], [45.92656, -66.29617], [46.09895, -64.71844], [47.7432, -64.76845], [45.05131, -66.87018], [45.27188491821289, -66.06217193603516], [45.2735, -66.05298], [45.07275, -67.05226], [47.04515, -67.73971], [46.24041, -64.51676], [47.76642, -65.7167], [45.27238, -66.06317], [46.08619, -64.79962], [45.27364, -66.06291], [45.96655, -65.99916], [45.35862, -65.53395], [45.60934066772461, -65.89262390136719], [45.2747, -66.0633], [47.85422, -65.76446], [47.64499, -67.35582], [45.22706, -67.17808], [46.306, -64.5406], [45.07393, -67.05364], [46.34849, -64.61245], [46.15464, -63.84931], [47.96196, -66.16601], [45.56746, -65.80302], [45.27876, -66.06006], [46.42057, -67.35478], [45.18653, -66.77746], [45.93816, -66.64009], [44.86048, -66.9902], [45.84822, -64.57621], [45.84989, -64.57608], [46.06774, -64.7188], [45.91974, -65.98397], [47.8856, -64.61992], [45.27055, -66.06321], [45.87243, -64.66644], [45.8721, -64.66584], [45.87092, -64.66469], [46.23633, -64.48645], [45.89724, -66.13401], [46.088455, -64.736099], [45.2726, -66.05997], [45.27884, -66.05894], [46.17919, -64.02049], [46.221279, -64.360252], [45.12739, -67.04982], [47.88523, -64.61883], [47.47454, -64.92189], [46.21136, -64.55613], [46.31342, -64.69247], [45.13218, -67.04969], [45.27353, -66.05309], [47.77121, -64.98189], [45.69089, -64.70947], [47.77041, -65.03085], [45.28025, -66.15243], [47.05796, -65.13031], [47.6021, -65.67261], [45.229, -67.13664], [45.27246, -66.06069], [45.91503, -66.09958], [45.57842, -66.54766], [45.28493, -66.05584], [45.38929, -65.95074], [45.38807, -65.95282], [46.83042, -65.77608], [46.22161, -64.37889], [46.05436, -64.02227], [47.62782, -65.28653], [45.24814, -66.10958], [45.72808, -67.02544], [46.23666, -64.45835], [45.74398, -66.02666], [46.21361923217773, -64.5505599975586], [46.22388, -64.54371], [46.23826, -64.42348], [47.61056, -65.68105], [47.60951, -65.68229], [47.26527, -65.04578], [46.23701, -64.50276], [46.18086, -64.0209], [45.38768, -65.95061], [45.44896, -65.98095], [46.26418, -64.56652], [46.6833, -64.77197], [47.96196, -66.16601], [47.66961, -65.64271], [46.09095, -64.78947], [46.22843, -64.52475], [44.75167, -66.83825], [45.95398, -66.65722], [45.27353, -66.05309], [44.72367, -66.75733], [45.9935, -66.6472], [45.89648, -64.37792], [46.79061, -65.04353], [46.0911, -64.78993], [45.95803, -66.6532], [45.32749, -65.91746], [45.3193, -65.55615], [47.7408, -64.61738], [45.92066, -66.59798], [45.91133, -67.37297], [46.0973, -64.78607], [46.23645, -64.51483], [46.06732, -64.71828], [47.67191, -65.64588], [45.107128, -67.129951], [46.11414, -64.77595], [46.11922, -64.8558], [45.25218, -66.10449], [46.22063, -64.33963], [46.10538, -64.80821], [46.23609, -64.52046], [46.3255, -64.51957], [46.0986, -64.75425], [45.07458, -67.05338], [46.13084, -63.82366], [46.23692, -64.56262], [47.70941, -65.77814], [45.27696, -66.15136], [45.993765882651495, -66.78457848169063], [45.89996, -64.3649], [45.6009, -64.94734], [45.95497, -66.63906], [47.43965, -68.46107], [47.43976, -68.46197], [45.2732, -66.06192], [46.13331, -63.78271], [45.87283, -64.66478], [45.371014, -65.504021], [45.68141, -65.38445], [46.22355, -64.33496], [46.2222, -64.33717], [45.27355, -66.05302], [44.62858, -66.72389], [46.22525, -64.54043], [45.39952, -65.88191], [45.06856, -67.04779], [46.09295, -64.79019], [45.87221, -66.88166], [45.94843, -66.63357], [45.94685, -66.63406], [45.07393, -67.05364], [44.91584, -66.99865], [46.22501, -64.53312], [45.14313, -66.8338], [45.60608, -64.94781], [47.50144, -64.93715], [46.26763, -64.5815], [46.44743, -67.68924], [45.72527, -67.02907], [45.81112, -64.60344], [46.28069, -67.65067], [45.75378, -64.72655], [46.6721, -64.8444], [45.94643, -66.6345], [45.15405, -66.81317], [46.44689, -67.68927], [46.46062, -64.70234], [45.89384, -66.89938], [47.79108, -64.63143], [45.96061, -66.65159], [45.89941, -64.51554], [45.83809, -64.57558], [46.27909, -67.65018], [45.2723, -66.06118], [46.23746, -64.50218], [44.60538, -66.88078], [44.86134, -66.98342], [46.22016, -64.55942], [44.86104, -66.99035], [46.34063, -64.62055], [47.75977325439453, -64.74195861816406], [46.28232, -66.74205], [46.33873, -64.61856], [45.97286, -67.24263], [45.97437, -67.24103], [46.23906, -64.51466], [46.34036, -64.61872], [44.94935, -66.92209], [46.3413, -64.52653], [45.27146, -66.11998], [46.09796, -64.79038], [46.38923, -64.61894], [46.11646, -64.77626], [47.06959, -65.24524], [45.96452, -66.6643], [47.03767, -65.46124], [46.64629, -64.87468], [47.81302, -64.69387], [46.68772, -64.86259], [46.23341, -64.56589], [46.23779678344727, -64.50587463378906], [46.10626, -64.85139], [44.97745, -66.95286], [45.18401, -66.96185], [45.87615, -66.89212], [45.18389, -66.96185], [45.18358, -66.96185], [45.18407, -66.96194], [45.9414, -64.66541], [45.94188, -64.66556], [45.98037, -66.5925], [47.84362, -65.74988], [47.79524, -64.90331], [47.94564, -66.96582], [47.34016, -65.01338], [47.34234, -65.01323], [46.23583, -64.51689], [45.98897, -64.03888], [45.06721, -66.74153], [45.72728, -65.50458], [46.67929, -64.8648], [47.94652, -66.96662], [46.26119, -64.6113], [47.79165, -64.64236], [45.27354, -66.05302], [47.66866, -65.63907], [47.9464, -66.96603], [46.09474, -64.78561], [45.72503, -67.02569], [44.85947, -66.98927], [45.25458, -67.01067], [45.07585, -67.05379], [45.84089, -64.91797], [46.17287, -67.5535], [46.95171, -65.8619], [47.33189, -65.01082], [47.50957, -64.90875], [46.75154, -67.7045], [45.18455, -66.96271], [45.18453, -66.96174], [45.72512, -65.50512], [45.72584, -65.50462], [46.56385, -67.79892], [45.9432, -66.59048], [47.06509, -65.44724], [46.23637, -64.45894], [45.13596, -66.83847], [46.17287, -67.5535], [46.17287, -67.5535], [46.17287, -67.5535], [46.17287, -67.5535], [46.17287, -67.5535], [46.17287, -67.5535], [45.65039, -65.86098], [46.08614, -64.79944], [46.64854, -64.87794], [47.7555, -65.71277], [46.23771, -64.51588], [46.22493, -64.38905], [45.17015, -67.16255], [45.07613, -67.05483], [46.08083, -64.79911], [46.73436, -65.83707], [45.9558, -66.63954], [45.97773, -66.50815], [46.09789, -64.69299], [46.09708, -64.75458], [47.74084, -64.70872], [46.10049, -64.74494], [46.80148, -67.78883], [44.90955, -66.98592], [45.34568, -65.56735], [45.19303, -67.28792], [46.05396, -65.13445], [46.10795, -64.86136], [45.60226, -64.94165], [46.08974, -64.7739], [46.10628, -64.752], [45.107162, -67.131119], [45.4327, -65.99712], [46.22331, -64.39828], [45.96639, -66.62568], [45.27359, -66.05302], [46.1147, -64.84462], [46.09442, -64.77062], [47.5096, -64.9086], [46.28055, -67.65206], [44.90553, -66.98598], [46.05438, -65.13521], [46.09388, -64.77191], [45.13816, -66.8243], [46.13084, -63.79067], [46.06696, -64.71988], [46.33125, -64.52443], [46.96262, -65.7448], [46.08903, -64.7798], [46.08903, -64.7798], [46.08903, -64.7798], [46.08903, -64.7798], [46.08903, -64.7798], [46.08903, -64.7798], [46.08903, -64.7798], [46.08903, -64.7798], [46.08903, -64.7798], [46.08903, -64.7798], [46.08903, -64.7798], [46.08903, -64.7798], [46.08974, -64.7739], [46.08974, -64.7739], [46.08974, -64.7739], [46.08974, -64.7739], [46.08974, -64.7739], [45.05632, -66.85821], [46.08905, -64.78182], [46.08905, -64.78182], [46.08905, -64.78182], [46.08905, -64.78182], [45.94685, -66.63406], [46.54828, -64.71774], [45.61, -65.8921], [46.10308, -64.77627], [45.38291, -66.21707], [45.6097, -65.893], [46.76307, -65.01409], [46.76292, -65.01345], [46.08184, -64.73527], [46.23657, -64.51618], [47.73656, -65.70635], [47.8334, -64.99074], [45.77091, -64.65566], [46.10932, -64.82227], [46.10953, -64.82241], [46.23818, -64.51907], [46.67656, -64.84507], [46.23559, -64.46105], [47.1547, -67.93948], [45.48073, -65.89899], [46.77994, -67.62346], [46.07455, -64.70925], [47.46986, -64.87663], [46.2283, -64.3185], [46.09606, -64.78857], [46.0634, -64.789], [45.74293, -66.02739], [44.76855, -66.76145], [47.78111, -65.71365], [47.78214, -65.71363], [45.68201, -65.38704], [46.76965, -65.77452], [45.60057, -64.94216], [47.07454, -65.36598], [46.34931, -64.56793], [46.23968, -64.51542], [45.37938, -66.22252], [46.68366, -64.78675], [46.22372, -64.31116], [45.8535, -64.84934], [47.94663, -66.78042], [46.10749, -64.82251], [46.21188, -64.55808], [45.90068, -64.51465], [45.90106, -64.51683], [45.89968, -64.51598], [45.90012, -64.51685], [45.90111, -64.51459], [46.23921, -64.52063], [46.23824, -64.51838], [46.10017, -64.79546], [46.22377, -64.33806], [45.89999, -64.5152], [45.6983, -64.70952], [45.35286, -65.53974], [45.18583, -67.29184], [47.01106, -65.56187], [46.95621, -67.76235], [46.23457, -64.50722], [45.6024, -64.94092], [45.60142, -64.93996], [45.84607, -64.57675], [45.08022, -67.05792], [46.28337, -64.57755], [46.36258, -64.61668], [45.95844, -66.6792], [46.08887, -64.7902], [47.77109, -65.00597], [45.43166, -65.99444], [45.81198, -66.16698], [46.22129, -64.5427], [47.79551, -64.9024], [45.81375, -66.16732], [47.79719, -64.90251], [47.6165, -65.64937], [45.60119, -64.94061], [46.34578, -64.57063], [45.9459, -66.70081], [47.3427, -68.64384], [46.1484866, -64.87844500000001], [46.11831, -64.85728], [46.23568, -64.42529], [44.7638, -66.74454], [46.64844, -64.87639], [46.64889, -64.87675], [46.65013, -64.87606], [46.64823, -64.87738], [46.71558, -65.81522], [46.23457, -64.50812], [46.3082, -64.52616], [46.22705, -64.31538], [46.07303, -64.77659], [44.86139, -66.98771], [45.31782, -66.18774], [46.33246, -64.52615], [48.00836, -66.66441], [47.63096, -65.67863], [47.04581, -65.4392], [44.90606, -66.98546], [45.26988, -66.05957], [47.36261, -68.3361], [45.95827, -66.6442], [46.22593, -64.50888], [45.27115, -66.12016], [45.17484, -67.2154], [46.0955, -64.9714], [47.73243, -65.38462], [44.85868, -66.98542], [45.27205, -66.0525], [47.36167, -68.34554], [46.23282, -64.49874], [45.99372, -66.78346], [44.81701, -66.95178], [47.922844, -66.080521], [46.09297, -63.95129], [46.11477, -64.77589], [47.73901, -64.62504], [46.09813, -64.79549], [46.546, -65.05463999999999], [47.77516, -65.02964], [46.22317, -64.54742], [48.06084, -66.35276], [45.25445, -66.07426], [46.11819, -64.72795], [46.11805, -64.85651], [45.06758, -66.74189], [45.2497, -66.09263], [45.68227, -64.76783], [45.83804, -64.75724], [45.27092, -66.06257], [45.74452, -67.01666], [45.89838, -64.37026], [45.41805, -65.98309], [45.41846, -65.98265], [46.73074, -65.8161], [46.26739, -64.59412], [45.4188, -65.98142], [45.98027, -64.04604], [47.36462, -68.32706], [47.473, -68.32332], [46.64682, -64.87495], [46.33999, -64.56254], [47.78933, -64.64893], [47.79868, -64.90105], [45.3711, -66.20881], [45.37008, -66.20858], [45.3709, -66.20689], [45.36958, -66.20768], [46.13546, -63.8196], [46.10022, -64.75466], [45.200809478759766, -67.28565216064453], [45.732, -64.72875], [47.43008, -68.45018], [47.82958, -64.98819], [45.72991, -65.51201], [46.22476, -64.50689], [47.33526, -64.98332], [44.71729, -66.74199], [47.33522, -64.98235], [45.37094, -66.20868], [46.1164, -64.88206], [45.37147, -66.20865], [45.7479, -65.2833], [46.44016, -64.70691], [46.12071, -64.83674], [45.95969, -66.64363], [47.05046, -64.95735], [47.69798, -64.72287], [47.76292, -65.04825], [45.36959, -66.20719], [45.60467, -64.94771], [48.0588, -66.35256], [47.6132, -64.81298], [45.16993, -67.19471], [45.17112, -67.19424], [45.17194, -67.19395], [45.17179, -67.19418], [45.16971, -67.19487], [44.85857, -66.9846], [45.34934, -65.55763], [46.06091, -64.01727], [45.07831, -67.05573], [45.72409, -67.02863], [46.06, -64.01517], [46.06092, -64.01529], [46.06026, -64.01645], [47.33654, -64.98072], [44.68358, -66.77729], [44.68819, -66.75919], [47.95719, -66.13822], [45.99163, -66.90063], [46.27081, -64.62588], [46.75098, -67.72989], [47.47319, -64.92207], [46.23385, -64.5101], [44.68191, -66.77583], [47.83099, -64.98989], [47.32976, -65.0112], [47.80225, -64.89107], [47.77777, -64.99508], [46.45173, -64.64599], [45.04156, -66.88787], [45.54979, -65.93001], [46.06832, -64.75198], [46.06838, -64.75209], [47.97189, -66.95237], [46.43865, -64.63011], [45.5029, -65.87386], [47.97262, -66.95204], [47.97367, -66.95048], [46.06079, -64.80147], [47.97242, -66.95028], [45.27146, -66.05332], [45.98601, -64.04872], [46.11788, -64.84846], [45.9825, -66.90602], [44.68304, -66.77557], [47.79664, -64.9025], [45.95713, -66.63919], [46.50497, -66.29576], [45.92478, -64.35677], [45.9805, -66.64871], [46.5295, -67.17749], [46.22305, -64.34029], [46.57962, -64.9552], [47.7894, -64.9595], [47.83543, -65.02953], [45.27043, -66.05584], [45.90258, -66.59449], [47.60992, -65.68147], [46.11657, -64.84738], [45.68155, -65.38535], [45.97104, -67.23623], [46.09354, -64.78955], [46.2368, -64.51644], [46.26609, -64.56319], [45.95974, -66.62531], [46.22563, -64.30807], [47.07283, -65.32553], [45.94316, -66.66217], [44.91381, -66.98632], [46.0892, -64.7175], [45.60821, -65.89323], [46.43848, -64.70642], [46.09371, -64.79099], [45.07241, -67.05151], [45.92003, -66.6265], [47.50301, -64.93788], [46.10124, -64.79701], [45.96207, -66.6227], [46.29853, -64.5634], [46.23178, -64.4041], [46.10751, -64.82236], [45.27064, -66.06097], [45.92851, -66.62293], [46.43988, -67.61859], [47.75597, -65.71376], [47.04913, -67.7394], [45.89859, -64.51213], [45.28475, -66.05919], [47.53059, -64.94101], [45.22443, -67.17592], [46.22609, -64.3434], [46.22116, -64.35408], [46.21957, -64.54734], [46.21957, -64.54734], [46.21957, -64.54734], [46.21957, -64.54734], [46.21957, -64.54734], [46.21957, -64.54734], [46.21957, -64.54734], [46.98268, -65.55537], [47.66051, -65.59549], [46.98271, -65.55494], [47.07443, -65.36456], [45.36641, -66.20946], [47.65388, -65.60801], [46.09601, -64.78628], [47.5091, -64.90891], [45.63987, -65.88035], [47.80921, -65.75322], [44.90086, -66.95767], [46.1072, -64.81294], [47.65599, -65.60558], [47.6538, -65.60703], [46.11077, -64.82733], [45.76274, -64.7079], [45.76407, -64.70917], [46.9807, -65.55346], [45.96009, -66.643], [46.10163, -64.80797], [46.23664, -64.46107], [46.08433, -64.72659], [46.08745, -64.97412], [46.08899, -63.81547], [47.36496, -68.32599], [46.5809, -64.72257], [45.29039, -66.03388], [47.01224, -65.52097], [47.78879, -64.95705], [46.2215, -64.53534], [46.62607, -67.79953], [46.09546, -64.78481], [46.0693, -64.76046], [44.65437, -66.83389], [47.86241, -64.53088], [44.90334, -66.95509], [45.2727, -66.05173], [46.09698, -64.78015], [46.22042, -64.53654], [45.8939, -64.36057], [45.89926, -66.68881], [46.96116, -65.74229], [45.07737, -67.05384], [47.73846, -64.62216], [46.14078, -64.24324], [47.04712, -67.73926], [45.27389, -66.05305], [47.65125, -64.84095], [45.99081, -66.57927], [46.10102, -64.80451], [45.17983, -66.98455], [45.07241, -67.05151], [46.54515, -67.23094], [46.09549, -64.79042], [46.23487, -64.48615], [46.09292, -64.79065], [47.81315, -64.70488], [46.11145, -63.86575], [46.23248, -64.49921], [46.02388, -64.1266], [46.23784, -64.42365], [45.27096, -66.05369], [46.64215, -67.79184], [46.82003, -65.78936], [47.81046, -64.67432], [45.27076, -66.06164], [46.09536, -64.78499], [46.07595, -64.77075], [46.11953, -63.77879], [47.37054, -68.31892], [44.99947, -66.94788], [45.13258, -67.0549], [46.4971, -64.67966], [46.18062, -64.02124], [45.14834, -66.98317], [45.27386, -66.06485], [46.22104, -64.36041], [44.68058, -66.77226], [46.23537, -64.52361], [45.30179, -66.10063], [47.36905, -68.31866], [46.05286, -64.02493], [46.10667, -64.82751], [45.07127, -67.04955], [47.85192, -64.51214], [45.09758, -66.64251], [46.37391, -64.61689], [46.21166, -64.20615], [46.10656, -64.82557], [46.22954, -64.42581], [46.22779, -64.50427], [46.10216, -64.83221], [46.94773, -64.85385], [47.72542, -65.05377], [45.35303, -65.54638], [45.373699, -66.226387], [46.64811, -64.87486], [45.28295, -66.05528], [47.651248931884766, -64.84095001220703], [44.7466, -66.76286], [45.73608, -65.54047], [47.19862365722656, -68.83721160888672], [45.73107, -67.02772], [46.09741, -64.78467], [47.38046, -68.31819], [45.1832, -66.96144], [45.2163, -66.92438], [45.66142, -65.33608], [47.80265, -64.88872], [45.99485, -66.8986], [45.95767, -66.67824], [46.97984, -65.82905], [45.52298, -65.99205], [46.52119, -65.06676], [45.27328, -66.06477], [46.11849, -64.93033], [46.09325, -64.77927], [44.86231, -66.9827], [46.09601, -64.78617], [46.11228, -64.82314], [47.3706, -68.32006], [46.01123, -66.63463], [47.8647, -64.54952], [44.91393, -66.98857], [47.65002, -65.62248], [44.85774, -66.98354], [45.35975, -65.52768], [46.09253, -64.79809], [45.07877, -67.05562], [44.66589, -66.76523], [45.27989, -65.6955], [46.47969, -64.69814], [46.23114, -64.26627], [45.98432, -66.74619], [46.15245, -67.57262], [46.09826, -64.78389], [45.0721, -67.05131], [44.66618, -66.763], [44.66583, -66.76414], [44.66666, -66.76288], [44.668, -66.76455], [45.07691, -67.05515], [45.60216, -64.94715], [45.26919, -66.05194], [47.61693, -65.6482], [45.14077, -67.13133], [46.09305, -64.79059], [44.76201, -66.76035], [45.44497, -65.93477], [46.5462, -66.15683], [45.76405, -64.70763], [45.76434, -64.70845], [46.34561, -64.57243], [45.37812, -66.19919], [46.08669, -64.72309], [45.7629, -64.70989], [46.12844, -67.63177], [46.53028, -67.55247], [45.9121, -66.59263], [45.76304, -64.70845], [45.76402, -64.70967], [47.04646, -67.74106], [45.76362, -64.70908], [45.76388, -64.70849], [45.98963, -67.46965], [46.21976, -64.53585], [47.45676, -64.94189], [46.23048, -64.26654], [46.10561, -64.82655], [46.76472, -65.01376], [46.76451, -65.01411], [46.76341, -65.01533], [46.76385, -65.01431], [46.10565, -64.7687], [46.21804, -64.37754], [46.43689, -64.70767], [46.43562, -64.70576], [46.43435, -64.70502], [46.10484, -64.81305], [46.22559, -64.31414], [45.95636, -66.64307], [45.25323, -66.08659], [45.61195, -64.93316], [46.22163, -64.36151], [45.07131, -67.05113], [45.07278, -67.04977], [46.22584, -64.50023], [45.32726, -66.07191], [47.74012, -64.62278], [47.74704, -64.62077], [46.51736, -67.17759], [46.51735, -67.17715], [44.76452, -66.74217], [46.23603, -64.50758], [46.09897, -64.75253], [45.91477, -66.10979], [46.26768, -64.77393], [46.15169, -67.5736], [46.15307, -67.5719], [46.26129, -64.60383], [45.27482, -66.06309], [46.36372, -64.6167], [46.05452, -64.79728], [45.70592, -65.98457], [46.5879, -64.91859], [46.09684, -64.78403], [46.0955, -64.78681], [46.11125, -64.82586], [46.2262, -64.5005], [46.22596, -64.50226], [46.23542, -64.52096], [45.89764, -64.5135], [45.89717, -64.5123], [46.95941, -65.61047], [45.27291, -66.06113], [46.23451, -64.49861], [47.78307, -64.98523], [45.61824, -64.78221], [46.24662, -64.56691], [44.68163, -66.77604], [46.4271, -64.62466], [46.73048, -65.8228], [45.27305, -66.05315], [44.76613, -66.75663], [46.09431, -64.77457], [47.82334, -64.61349], [45.76585, -65.97758], [46.12565, -64.85827], [46.09031, -64.76994], [46.23441, -64.50476], [46.14269, -67.58171], [47.36168, -68.3438], [45.1951, -67.28384], [45.86053, -66.27956], [46.17128, -64.54851], [46.17179, -64.54929], [46.17083, -64.54839], [45.93646, -66.86856], [47.79363, -64.9245], [46.51512, -64.68617], [45.21211, -67.14909], [46.66597, -64.86493], [46.08106, -64.79866], [46.9611, -65.59522], [46.09725, -64.78522], [45.07497, -67.04685], [47.02247, -65.50604], [47.74389, -65.08134], [46.5164, -64.68605], [47.46961, -64.875], [45.35672, -65.53487], [45.74599, -65.28353], [48.06377, -66.38073], [45.95557, -66.65356], [46.3579, -64.56863], [46.73204, -65.82326], [46.73211, -65.82404], [46.73127, -65.82446], [46.22131, -64.36264], [47.64616, -67.36044], [45.92655, -66.62222], [45.95479, -66.64436], [48.00226, -66.32707], [45.60432, -64.94654], [46.22672, -64.5006], [45.18301, -67.26551], [45.27118, -66.12014], [47.77234, -65.02726], [47.78945, -64.64743], [47.49921, -67.28309], [46.22525, -64.39619], [45.35286, -65.54018], [46.21804, -64.37754], [46.16899, -67.15484], [46.10479, -64.82796], [45.28541, -66.04028], [46.1052, -64.82767], [47.36074, -68.34539], [46.09903669215099, -64.79533821344376], [45.95437, -66.63367], [45.95402, -66.6339], [46.22136, -64.53579], [46.63774, -67.67079], [47.77032, -65.02793], [47.74584, -65.01186], [45.9432, -66.59048], [47.8162, -67.14509], [45.92699, -64.66056], [45.96347, -66.65375], [45.29046, -66.02915], [45.3559, -66.01442], [47.03242, -65.01803], [46.11679, -64.84866], [46.11769, -64.84715], [45.63304, -65.86756], [45.14925, -66.77944], [46.16327, -67.57391], [47.49961, -67.28358], [47.49997, -67.28152], [47.49954, -67.28201], [47.49967, -67.28363], [47.49846, -67.28187], [46.089809, -64.773407], [46.17219, -64.397], [46.089809, -64.773407], [46.22077, -64.53531], [46.47011, -64.71512], [47.78029, -64.96883], [46.09921, -64.78869], [45.82834, -67.04627], [46.20707, -64.19697], [45.36291, -65.5226], [47.49856, -67.28164], [45.2677, -66.05571], [46.21873, -64.53656], [46.0501, -64.91944], [46.35357, -64.54954], [45.95666, -66.63353], [47.79405, -64.91268], [44.69753, -66.74414], [46.21892, -64.45255], [45.60872, -64.94886], [47.88292, -64.61465], [46.14044, -64.24641], [47.9927, -66.79231], [46.12005, -64.86344], [47.76291, -65.04868], [46.22623, -64.23238], [46.22625, -64.23173], [46.22602, -64.23348], [45.4139, -65.99439], [46.227, -64.23114], [44.75984, -66.76288], [46.35135, -64.57041], [46.12109, -64.83332], [45.2472, -66.10896], [46.42143, -67.35535], [46.2846, -66.74054], [46.38061, -64.61465], [46.09589, -64.78456], [45.1821, -66.96217], [46.10792, -64.77926], [46.11041, -64.85698], [47.41527, -68.32236], [47.41704, -68.32165], [47.82903, -65.0834], [46.54004, -64.70108], [46.65166, -64.75778], [46.52481, -65.08239], [46.52363, -65.08376], [47.64376, -65.6927], [45.98429, -64.57105], [45.86294, -67.67891], [46.18957, -64.97253], [45.9432, -66.59048], [46.51076, -66.28445], [46.17859, -64.11173], [47.58204, -65.88218], [47.63919, -65.6814], [46.10196, -64.80996], [45.27579, -65.97735], [45.28049, -66.05465], [46.37817, -64.76847], [46.1036, -64.81887], [45.17134, -67.19605], [45.96484, -66.74217], [45.96341, -66.64848], [45.3578, -65.52656], [45.35928, -65.52843], [45.27089, -66.05886], [48.00442, -66.652], [46.04578, -65.81793], [45.44887, -65.92938], [46.05869, -64.88178], [46.23625, -64.52159], [47.00061, -65.56466], [45.2809, -66.05442], [45.96514, -66.66091], [47.7019, -65.68947], [45.72734, -65.99991], [45.96351184093959, -66.06594655662775], [45.31646, -66.19162], [45.9438, -66.58939], [47.61291, -65.66828], [46.10462, -64.79903], [45.27967, -66.07367], [45.32056, -65.98545], [45.29624, -66.09408], [46.09372, -64.71883], [46.82035, -67.73436], [45.19501, -67.28024], [45.98944, -66.76748], [47.77143, -65.028], [45.19355, -67.28893], [45.28529, -66.05513], [46.09691, -64.79595], [45.82912, -66.58992], [45.35698, -65.53266], [46.33547, -64.63283], [45.97193, -66.63661], [45.28005, -66.05325], [46.23496, -64.50768], [46.48516, -66.48178], [46.089809, -64.773407], [46.08981, -64.77341], [46.10623, -64.82558], [47.61362, -65.64717], [45.26967, -66.05032], [45.26938, -66.05195], [46.10383, -64.81608], [47.67461, -64.95366], [46.09546, -64.78579], [46.1039, -64.81467], [46.11986, -64.72378], [46.22528, -64.30848], [45.94188, -66.63143], [46.09504, -64.78484], [45.17156, -67.19455], [46.42668, -64.62761], [48.00437, -66.66485], [46.03849, -64.88781], [45.90723, -66.01403], [46.09818, -64.71915], [46.09743, -64.74664], [47.15482, -67.93625], [44.61924, -66.86781], [45.26253, -66.08546], [46.09182, -64.77431], [46.08158, -64.80254], [45.98581, -64.56997], [46.10398, -64.81485], [45.41437, -65.95392], [45.84586, -66.89148], [46.23272, -64.50677], [45.68366, -65.38488], [45.78695, -66.85772], [45.60274, -64.94143], [44.75627, -66.77408], [45.94177, -66.69692], [46.47444, -66.40052], [46.28106, -67.65168], [46.15067, -64.66493], [47.76201, -64.74153], [45.93409684426217, -66.63280192762613], [47.75772, -64.74105], [46.15093, -67.57575], [46.22588, -64.48808], [45.8343, -66.66892], [45.33347, -65.54869], [45.27554, -66.08863], [46.3369, -64.52987], [46.24105, -64.56617], [45.27694, -66.05542], [46.5055, -64.68225], [45.92699, -66.63767], [47.32811, -68.73819], [46.092, -64.75209], [46.11162, -63.77647], [46.15093, -67.57626], [47.32897, -68.73899], [47.32875, -68.73745], [46.10675, -64.80436], [45.73475, -64.69684], [46.33106, -64.5248], [46.10091, -64.68715], [45.19855, -67.1877], [46.11049, -64.86553], [44.68632, -66.76324], [46.771331787109375, -65.76521301269531], [46.49461, -67.57544], [46.25798, -64.61948], [46.22598, -64.3082], [45.95675, -66.64293], [46.22311, -64.352821], [45.94304, -66.6321], [46.22928, -64.23892], [47.5313, -64.94074], [45.73481, -64.69729], [47.83742, -65.01515], [47.8274, -64.98366], [45.18197, -66.96211], [47.37041, -68.31994], [47.36846, -68.31869], [46.06171, -64.0154], [46.688, -64.83235], [46.11045, -64.74831], [45.35763, -65.53346], [45.35767, -65.53569], [46.21485, -64.54779], [47.67845, -65.66686], [45.73474, -65.541], [46.57905, -66.03179], [46.09086, -64.78611], [47.65769, -67.49169], [46.09375, -64.78002], [46.09287, -64.77926], [46.0959, -64.78146], [46.09096, -64.78634], [47.92181, -66.97152], [46.29063, -64.66688], [46.11145, -64.85691], [46.09465, -64.78885], [46.09501, -64.78069], [45.29303, -66.10428], [46.10624, -64.80588], [45.32009, -66.07885], [46.34761, -64.57279], [47.21957, -68.64689], [46.23505, -64.51239], [45.62786, -64.92574], [45.62672, -64.92523], [45.62665, -64.9255], [44.89516, -66.95562], [46.22479, -64.5164], [46.08853271297255, -64.72329240292311], [46.06594, -64.69953], [45.28145, -66.05332], [45.1291, -66.86069], [46.95644, -65.59445], [46.96147, -65.59679], [45.39701, -65.98929], [46.1614, -64.08729], [47.74522, -64.65595], [46.15085, -67.57512], [46.23433, -64.50696], [45.07551, -66.91551], [46.22628, -64.48817], [46.11029, -64.8654], [46.10485, -64.82798], [45.27537, -66.06365], [45.28031, -66.05341], [46.09647, -64.7816], [45.07941, -67.05812], [46.873993, -65.656311], [46.87399, -65.65631], [46.20757, -64.19443], [45.27658, -66.08338], [45.27741, -66.08323], [45.27624, -66.08284], [47.38274, -68.34797], [45.31474, -65.55756], [45.88782, -66.96768], [46.10428, -64.81517], [45.76604, -64.6801], [46.10702, -64.80306], [45.95446, -66.63533], [45.18925, -66.77858], [46.10268, -64.81476], [44.90744, -66.98472], [46.10905, -64.80245], [45.28975, -66.0395], [46.07297, -64.77383], [45.07421, -67.05759], [45.07442, -67.05714], [46.34178, -64.53035], [45.15971, -66.35712], [45.60092, -64.94073], [45.27662, -66.0817], [47.02137, -65.52481], [46.55476, -66.14597], [45.37191, -66.22614], [45.27206, -66.08465], [45.98355, -66.06797], [45.36078, -65.52644], [46.22672, -64.3161], [46.09141, -64.78589], [45.27629, -66.08355], [45.27742, -66.0837], [45.27745, -66.08187], [45.27749, -66.08101], [45.25977, -66.07154], [46.10002, -64.72364], [45.35441, -65.549], [46.05464, -64.82573], [45.28225, -66.08946], [45.60285, -64.9393], [46.05364, -64.81257], [46.09553, -64.75633], [46.25914, -64.58926], [45.30881, -65.58663], [46.67228, -64.84541], [46.23744, -64.50486], [45.96049, -66.64708], [45.62709, -66.08936], [45.97256, -67.24108], [45.27733, -66.08337], [47.04035, -65.20643], [46.12462, -64.85639], [47.32904, -68.73871], [46.345207, -64.532295], [46.1153, -63.96876], [46.34471, -64.53098], [46.44864, -64.64016], [46.87367, -65.65725], [46.23998, -64.51489], [46.23364, -64.5137], [45.33337, -65.54803], [47.26063, -65.0572], [45.95975, -64.06164], [47.35239, -68.66888], [45.93315, -66.63192], [46.33467, -64.52647], [45.97019, -66.99921], [45.96869, -66.99771], [47.31491, -68.73421], [45.33259, -65.91004], [47.64479, -65.67565], [46.16204, -64.85221], [46.4609, -64.65929], [47.47324, -68.32331], [47.47205, -68.32386], [44.76662, -66.76236], [45.05787, -66.85679], [45.22497, -67.17336], [44.76617, -66.76096], [44.76626, -66.76163], [46.03575, -64.72203], [45.73476, -64.69876], [46.76546, -65.01445], [45.97254, -66.63805], [45.35921, -65.52656], [45.31953, -66.18836], [45.86078, -64.39466], [46.15458, -65.89435], [45.97302, -66.59136], [45.07597, -67.05591], [45.94507, -66.8525], [46.237, -64.51351], [45.2719, -66.058151], [45.61069, -64.93464], [46.10273, -64.67782], [45.14745, -66.78489], [45.36797, -66.2086], [47.68582, -65.67124], [46.3232, -64.5157], [45.77527, -66.14247], [47.80063, -64.8887], [45.95668, -66.63702], [45.27188, -66.06213], [45.95864, -66.64595], [45.95945, -66.64648], [45.2856, -66.04002], [45.27141, -66.05763], [45.63878, -67.00807], [45.73438, -64.6986], [45.94515, -66.66914], [45.94396, -66.69476], [46.70654, -65.06141], [47.66014, -65.64178], [46.45668, -64.69376], [46.45652, -64.69501], [45.60486, -64.94866], [46.45648, -64.69351], [46.45543, -64.69313], [46.455948, -64.694244], [46.96317, -64.83016], [47.74101, -64.62043], [45.67808, -65.30832], [46.1085, -64.77882], [47.18915, -67.19767], [45.6295, -64.92884], [46.27969, -64.57458], [46.45522, -64.69475], [45.074402, -67.049072], [46.05987, -64.01522], [47.73913, -64.6222], [46.70602, -65.79107], [45.14031, -67.12861], [46.45703, -64.69389], [45.97931, -66.65263], [47.37572, -68.32771], [44.76534, -66.74956], [45.07538, -67.05745], [46.20743, -64.18934], [46.45616, -64.69329], [46.45706, -64.69373], [45.07844, -67.05713], [45.37914, -66.22183], [46.22853, -64.31806], [45.13669, -66.82204], [45.18401, -66.96283], [47.07168, -65.0987], [45.97178, -66.63617], [46.87514, -65.65552], [45.85078, -66.49209], [45.2806, -66.0644], [46.06223, -64.69823], [46.10406, -64.81638], [45.75025, -65.99744], [45.84448, -65.92916], [47.1247, -65.26585], [48.06259, -66.35878], [46.09514, -64.73924], [47.6479, -65.68982], [45.70566, -65.20212], [45.70743, -65.20419], [47.97303, -66.95123], [46.0855, -64.79419], [45.28194, -66.06609], [47.64688, -65.68951], [47.64732, -65.6902], [47.64732, -65.69059], [44.85869, -66.98286], [46.10489, -64.85364], [46.10505, -64.85543], [47.64684, -65.69091], [47.64736, -65.68939], [46.23769, -64.51623], [45.95731, -66.64376], [44.76506, -66.74805], [46.25948, -64.57079], [45.93731, -66.15577], [45.48206, -65.94209], [46.06181, -64.69711], [46.37887, -64.77031], [45.30216, -66.00598], [45.45711, -66.34091], [45.925, -64.35894], [48.00639, -66.66677], [46.23708, -64.4258], [45.26904, -66.06076], [45.27523, -66.06046], [45.96479, -66.69343], [45.41607, -65.9931], [45.87717, -66.58467], [45.28296, -66.08935], [45.27008, -66.08227], [46.73659896850586, -65.82473754882812], [45.95373, -66.63222], [45.95509, -66.63266], [46.32882, -64.6482], [45.95711, -66.61323], [46.09249, -64.78324], [47.21976, -68.65065], [46.80787, -67.79033], [47.21869, -68.65156], [47.21967, -68.65194], [47.21978, -68.65186], [45.95892, -66.64775], [45.27384, -66.05881], [46.2383, -64.5223], [46.09606, -64.79879], [45.92813, -66.63945], [46.0819, -67.11119], [46.06143, -64.69844], [45.30438, -67.28614], [45.89485, -66.98258], [45.12958, -67.10472], [46.45648, -64.65203], [46.09803, -64.81797], [45.28743, -66.04206], [45.91262, -64.38747], [45.30308, -67.0168], [46.49385, -67.38314], [46.52865, -65.06447], [45.94407, -66.58999], [45.97051, -66.6351], [47.41585, -65.79661], [46.09031, -64.78458], [46.09221, -64.77028], [46.09862, -64.81905], [46.09939, -64.8191], [47.67065, -65.64315], [46.38125, -64.61317], [46.56881, -65.0158], [46.379253, -64.613335], [46.40947, -64.6213], [46.44151, -67.62077], [46.43974, -67.62082], [47.41613, -65.79905], [45.2999, -66.0161], [48.01133, -66.66678], [46.2246, -65.86945], [45.96447, -66.62374], [46.3709, -64.63196], [45.97264, -66.63537], [46.03124, -66.03668], [46.07125, -64.69491], [46.7713, -67.61618], [45.96587, -66.62294], [46.22681, -64.31486], [45.93008, -66.64433], [45.27618, -66.08056], [46.2148, -64.54697], [45.98742, -64.04943], [45.2817, -66.08952], [45.74201, -66.95158], [46.09352, -64.78118], [46.093868, -64.792595], [46.47316, -67.58021], [46.47168, -67.57954], [46.09875, -64.81813], [45.52895, -66.06747], [45.48059, -65.89695], [45.27655, -66.05755], [45.9425, -66.59161], [47.46951, -64.87547], [46.49281, -67.38839], [46.49288, -67.38953], [46.66148, -65.79314], [46.09543, -64.78509], [45.96164, -66.63692], [45.96249, -66.64906], [45.3591, -65.52835], [46.69037, -64.85832], [45.14205, -67.0335], [45.9635, -66.62473], [47.62879, -65.28486], [45.96037, -66.62501], [46.44487, -64.69059], [46.09657, -64.78665], [45.18165588378906, -67.13809967041016], [45.07581, -67.04259], [46.87363, -65.65618], [45.29319, -66.03905], [46.2339, -64.46037], [45.07493, -66.7404], [47.12099, -65.26436], [45.80273, -65.06441], [46.09869, -64.81769], [46.33984, -64.56591], [47.66547, -65.54473], [46.10378, -64.8155], [45.60945, -64.94889], [45.22499, -67.19333], [46.39159, -64.84543], [46.23611, -64.5189], [45.3584, -66.22142], [46.77242, -67.61489], [46.10149, -64.7238], [45.97631, -66.7217], [47.88193, -64.60119], [46.22065, -64.2288], [44.97156, -67.00841], [45.95732, -66.63647], [47.83178, -65.04943], [47.36648, -68.3311], [46.23842, -64.51076], [45.12536, -67.10261], [46.09794, -64.80422], [46.23801, -64.50617], [45.99958, -64.57404], [46.49046, -64.67414], [45.43855, -65.8298], [46.936985, -65.817841], [45.6049, -64.94909], [46.09114, -64.7871], [44.91234, -66.99285], [46.09018, -64.78526], [46.45172, -64.64838], [45.35953, -65.52695], [47.41756, -65.79744], [44.86108, -66.98335], [46.0908, -64.78646], [46.0902, -64.78636], [46.08933, -64.78517], [46.09111, -64.78499], [45.98099, -66.72149], [45.16373, -66.77849], [46.10272, -64.67788], [46.22374, -64.31208], [46.10243, -64.82204], [46.42619, -64.63119], [46.51795, -67.15974], [46.23464, -64.51732], [46.27929, -64.58843], [46.23866, -64.50733], [46.22713, -64.53541], [46.15617, -65.89462], [45.27314, -66.05126], [45.35417, -65.5394], [45.35307, -65.53878], [45.35307, -65.53878], [45.35307, -65.53878], [45.35307, -65.53878], [45.35307, -65.53878], [45.07364, -67.04994], [46.64163, -64.89271], [46.09888, -64.77819], [44.91082, -66.98544], [46.09825, -64.77864], [45.93562, -66.28541], [46.236, -64.50556], [46.11355, -64.85098], [45.7304, -64.67579], [46.46614, -64.67134], [45.12339, -66.81838], [45.13652, -66.82237], [46.09315, -64.79438], [46.89146, -67.39859], [45.96564, -66.69186], [46.34591, -64.57149], [46.52572, -65.06105], [45.13574, -67.03671], [46.10137, -64.82017], [45.93187, -66.64463], [46.10863, -64.80279], [46.05639, -64.81227], [46.21571, -64.56125], [46.23652, -64.51666], [46.23623, -64.50577], [46.33953, -64.61583], [46.23758, -64.50526], [45.68976, -65.42294], [47.7376, -64.71162], [44.68516, -66.77416], [44.90933, -66.98697], [46.0533, -64.79607], [45.99651, -64.64658], [46.64502, -64.86198], [44.90559, -66.98631], [45.68647, -65.39726], [46.23824, -64.50587], [45.0757, -67.04985], [45.07599, -67.04909], [45.66308, -67.76243], [47.05923, -64.99918], [46.6429, -64.86055], [45.95804, -66.64163], [46.22521, -64.30772], [46.46929, -64.71124], [46.34405, -64.57382], [46.23533, -64.51022], [44.68215, -66.75065], [45.926105, -66.297234], [47.92345, -66.07931], [45.93155, -66.18589], [44.65034, -66.84205], [46.09937, -64.74734], [45.29837, -66.10699], [46.23691, -64.50634], [46.10215, -64.81505], [45.9517, -66.62102], [45.30763, -66.00506], [45.64005, -65.6993], [46.378979, -64.613106], [46.22758, -64.52001], [46.17861, -64.0233], [45.94694, -66.69846], [46.22638, -64.31209], [45.73329, -64.69661], [45.9849, -66.58781], [46.36003, -64.54646], [47.379013, -68.722221], [46.87561, -65.65941], [46.26459, -64.56377], [46.65615, -64.7104], [45.0869, -67.05841], [46.60798, -65.73011], [46.09478, -64.78102], [46.43998, -67.61945], [46.31305, -64.66349], [46.11154, -64.868], [46.40017, -64.65815], [46.34199, -64.61599], [45.65362, -67.10575], [45.26959, -66.08053], [46.40073, -64.65618], [46.4013, -64.65645], [45.32663, -65.91063], [47.7615, -64.74025], [47.8001, -64.87302], [46.22769, -64.31697], [45.838642, -64.575531], [47.18562, -65.15316], [45.97123, -66.63558], [44.90942, -66.99058], [48.06131, -66.35287], [45.73418, -64.69814], [45.73393, -64.69702], [48.00486, -66.67186], [44.8985, -66.95444], [45.62044, -65.90675], [47.99962, -66.67322], [45.25831, -66.07123], [46.10258, -64.8221], [47.83651, -65.01293], [44.77118, -66.76725], [45.07528, -67.04999], [46.10792, -64.777], [44.6199, -66.86787], [47.46886, -64.87579], [47.81838, -65.15735], [45.72085, -65.9992], [46.52729, -64.6935], [45.60746, -65.92095], [46.10788, -64.77899], [46.10914, -64.77695], [46.10805, -64.77833], [46.10945, -64.77844], [46.10847, -64.77731], [45.326275, -65.549957], [46.10762, -64.77706], [46.93953, -65.90085], [45.87456, -66.52959], [46.22101, -64.53455], [46.21964, -64.53719], [45.074, -67.0492], [46.26935, -64.57123], [46.23557, -64.50744], [46.82966, -65.78516], [45.27321, -66.06083], [47.77099, -65.00491], [47.6562, -65.59859], [46.56846, -67.79215], [46.56962, -67.79213], [46.43125, -66.50283], [45.09162, -66.63608], [46.09663, -64.68475], [46.09654, -64.68387], [47.07094, -65.41916], [46.21846, -64.55236], [46.40066, -64.65757], [45.96376, -66.650604], [47.36531, -68.32527], [47.36643, -68.32744], [47.36464, -68.32666], [47.36491, -68.3275], [47.99458, -66.29154], [45.8507, -66.48358], [44.68639, -66.78152], [46.26402, -64.56759], [46.378902, -64.616928], [45.25661, -67.15703], [45.80811, -64.61188], [46.21624, -64.53993], [46.56409, -65.06673], [46.23468, -64.51345], [46.0976, -64.78249], [47.16556, -67.94303], [46.16967, -64.54238], [46.692, -64.85783], [46.32589, -64.51713], [45.26202, -65.74204], [45.12747, -67.1049], [45.27726, -66.08333], [45.94372, -66.69537], [47.05546, -67.3044], [46.23802, -64.56019], [46.31177, -64.6966], [46.10231, -64.79578], [46.23809, -64.50412], [47.22105, -68.64653], [46.05405, -64.81016], [47.00927, -65.56247], [46.42556, -64.62223], [46.43097, -64.62473], [45.96236, -66.66505], [45.21098, -67.1933], [44.96499, -67.00661], [46.32616, -64.51831], [45.1259, -67.11225], [46.10847, -64.77887], [46.212997, -64.369415], [46.09318, -64.78921], [46.09391, -64.788], [46.09378, -64.78932], [46.09378, -64.78777], [46.09372, -64.78754], [46.09371, -64.78784], [46.09509, -64.7882], [47.76996, -65.02764], [47.77166, -65.0286], [45.91571, -65.99433], [46.09601, -64.78265], [46.87683, -65.65882], [46.87743, -65.65949], [46.87678, -65.66057], [45.43942, -66.01785], [46.33203, -64.59497], [47.78821, -64.96921], [44.93542, -67.01498], [46.21839, -64.55828], [46.22195, -64.54602], [44.948139, -66.923141], [46.19204, -64.16074], [46.46947, -64.71124], [47.40757, -64.98319], [47.75986, -64.7412], [47.36495, -68.32605], [45.07038, -67.0482], [46.127, -64.79214], [44.94651, -66.92515], [46.23858, -64.51415], [46.23848, -64.51208], [44.63215, -66.72011], [46.20784, -64.19721], [46.27336, -64.57969], [46.44412, -64.69272], [45.59641, -67.31797], [46.04618, -64.78951], [45.96741, -66.73046], [46.2246, -64.31287], [46.13029, -63.7847], [45.27699, -66.05981], [45.30204, -65.95377], [45.83494, -64.57717], [46.28044, -64.58076], [46.21561, -64.28437], [46.03592, -64.72155], [47.80421, -64.84993], [46.32941, -64.61782], [46.37776, -64.61214], [47.61899, -65.64489], [46.37897, -64.61375], [47.75936, -64.74222], [46.15074, -64.2373], [46.35484, -64.53609], [46.69271, -64.85516], [45.60306, -64.94256], [46.3823, -64.61372], [45.83748, -64.75846], [46.88258, -67.43005], [45.69864, -64.71004], [45.60183, -64.94084], [46.2128, -64.54876], [46.08671, -64.72537], [46.12474, -63.78433], [47.8016, -64.87367], [46.22861, -64.32273], [45.55869, -67.04547], [46.10989, -64.76058], [45.39349, -67.3783], [46.08984, -64.78487], [45.05691, -66.85855], [45.25675, -66.08028], [45.840336, -64.919876], [45.83992, -64.92099], [45.25883, -66.08078], [47.76063, -64.73093], [44.74628, -66.7641], [45.6358, -65.85874], [47.36847, -68.32015], [47.62267, -65.6726], [45.25847, -66.08037], [46.96471, -67.39474], [47.58639, -67.37015], [46.32205, -67.39472], [45.18571, -67.2701], [46.236663818359375, -64.43643951416016], [46.11983, -64.93217], [46.47127, -64.72264], [45.27497, -66.08388], [45.2779, -66.08233], [45.89537, -65.81497], [46.47226, -64.72062], [46.47239, -64.72198], [46.47156, -64.72191], [46.47287, -64.72204], [46.47224, -64.72099], [46.23634, -64.45739], [47.78495, -64.96984], [46.51444, -64.68534], [47.47317, -68.32397], [46.24088, -64.53101], [45.89452, -65.81506], [45.55877, -67.04752], [45.07221, -67.04583], [46.23708, -64.51564], [46.53176, -67.17863], [45.93277, -64.65715], [46.23794, -64.51717], [46.13494, -66.60865], [46.06383, -64.70937], [46.22244, -64.38835], [46.38455, -67.36296], [47.799946, -64.888199], [45.19277, -67.1502], [47.80555, -64.81838], [44.85316, -66.9945], [45.35638, -65.54777], [45.35467, -65.54585], [47.37309, -68.32707], [46.09865, -64.81942], [46.10676, -64.76151], [46.06271, -64.79144], [46.05497, -64.78727], [47.36826, -68.3214], [47.668301, -64.850433], [45.95892, -66.65562], [46.23557, -64.51573], [46.07527, -64.75872], [45.28384, -65.99635], [44.91239, -66.98456], [46.18515, -64.82663], [46.53978, -64.70049], [46.53935, -64.70169], [47.97015, -66.17743], [45.41853, -66.04069], [48.00327, -66.67215], [45.15036, -66.49126], [47.01083, -65.53571], [45.31681, -65.55932], [47.67435, -64.96055], [46.10331, -64.8001], [45.27568, -66.05876], [45.81135, -67.74507], [45.6381, -65.69735], [46.27228, -64.56381], [46.02752, -66.03963], [47.78049, -65.71385], [47.67751, -65.67172], [46.10083, -64.79686], [46.29733, -64.5606], [45.89386, -66.90125], [46.87576, -65.65833], [46.07579, -64.66482], [47.78763, -64.93713], [46.10349, -64.77904], [46.3707, -64.61733], [46.3806, -64.61378], [46.33069, -64.52333], [45.721207, -65.510117], [46.23689, -64.51879], [46.62575, -64.71001], [46.34004, -64.57121], [48.0628, -66.3566], [45.96239, -66.65016], [45.95055, -66.6346], [45.96719, -66.80881], [45.25787, -66.07853], [45.27102, -66.08052], [45.94986, -66.65546], [45.372631, -65.476799], [46.13643, -66.61679], [46.10804, -64.76807], [45.94811, -66.65551], [45.27566, -66.05526], [47.40832, -64.96913], [46.12555, -64.85652], [45.26879, -66.05726], [46.05626, -64.78793], [46.11717, -64.83458], [46.23423, -64.50827], [47.75989, -64.74047], [45.8074, -66.18502], [46.27064, -64.57355], [46.12138, -64.87196], [45.27855, -66.07528], [47.80000305175781, -64.88822174072266], [45.99450779471312, -66.64581935852766], [46.30135, -64.55161], [46.10733, -64.87136], [46.23469, -64.50329], [45.41909, -65.78391], [45.93898, -66.59986], [45.34582, -65.55426], [45.27425, -66.05904], [46.46739, -64.71325], [47.7066, -65.694], [45.96729, -66.71953], [45.12195, -66.47185], [45.58752, -65.92527], [46.22317, -64.3781], [45.12918, -66.82375], [45.96814, -66.62347], [45.98352, -66.06712], [46.06817, -64.79229], [44.77705, -66.76678], [46.3321, -64.59352], [45.12442, -66.81916], [46.10255, -64.74845], [47.07409, -65.36387], [46.15403, -67.57273], [45.96509, -66.92501], [45.30596, -65.98532], [47.62811, -65.66968], [47.73663, -65.10831], [45.89817, -64.38392], [46.54791, -64.7074], [46.10193, -64.8204], [47.07186, -65.09923], [45.27303, -66.05329], [46.0601, -64.79831], [46.10514, -64.82857], [46.08029, -64.79837], [45.18221, -66.96217], [45.18341, -66.96135], [45.18409, -66.96228], [46.11684, -64.83615], [45.18346, -66.96126], [45.18288, -66.96269], [45.18369, -66.96092], [46.23103, -64.50638], [46.25746, -64.57108], [45.60177, -64.93577], [46.09496, -64.72825], [45.27864, -66.07548], [45.11912, -66.35928], [44.91425, -66.98732], [45.38006, -65.47699], [45.28387, -65.99703], [45.28532, -65.99632], [45.28367, -65.99626], [46.02887, -66.0365], [46.15556, -64.17879], [47.74906, -64.75374], [47.74733, -64.74136], [46.23728, -64.42402], [46.343372, -64.530899], [45.07715, -67.05315], [46.10178, -64.83004], [45.60203, -64.9424], [45.60121, -64.94311], [46.25759, -64.56954], [47.36295, -68.33353], [46.25887, -64.57009], [45.700359, -66.123703], [46.34223, -64.61771], [47.84368, -65.75107], [47.07235, -65.41745], [45.98804, -66.58573], [45.92701, -66.63695], [45.92686, -66.63743], [46.05768, -65.55881], [47.07101, -65.41775], [46.46801, -64.71381], [45.94562, -66.69935], [45.92165, -66.59855], [46.10496, -64.75387], [46.107121, -64.810326], [45.93795, -66.26606], [47.990829, -66.26593], [47.37158, -68.32636], [45.983341, -66.601379], [45.08914, -67.06555], [46.17034, -64.54991], [47.01685, -65.5572], [45.95756, -66.64356], [46.25736, -64.57031], [46.25932, -64.57082], [46.25866, -64.56983], [46.25708, -64.57022], [47.83358, -64.70633], [45.28859, -66.03438], [45.28846, -66.03389], [46.08028, -64.8029], [45.27416, -66.07974], [45.30145, -66.01763], [45.19545, -67.276955], [46.107113, -64.743248], [45.2711, -66.05017], [45.12503, -66.8202], [46.21636, -64.53956], [45.30078, -66.01862], [47.991577, -66.265862], [45.28398, -66.05962], [45.30188, -66.01788], [47.41818, -65.79885], [45.95768, -66.63884], [45.27549, -66.06275], [47.41768, -65.79962], [46.11879, -64.83621], [47.669994, -65.64296], [47.79748, -64.90198], [47.62208, -65.6722], [45.28735, -66.03529], [46.22002, -64.5522], [45.1341, -67.1166], [44.905594, -66.98455], [45.92959, -66.07445], [45.9579, -66.64235], [45.93968, -66.27145], [46.43151, -64.62465], [45.31659, -66.20405], [46.21652, -64.3783], [45.27608, -66.08168], [46.11555, -67.10048], [45.56958, -67.04244], [47.36706, -68.33504], [45.11394, -66.47595], [45.94577, -66.65984], [45.961632, -66.652412], [46.35709, -64.56254], [45.11905, -66.82642], [46.09005, -64.71141], [47.65153, -65.6205], [45.93676, -66.15415], [46.09225, -64.70255], [48.01377, -66.36202], [45.97171, -66.63399], [46.14445, -66.62498], [45.95107, -66.59652], [45.12722, -66.89689], [46.34025, -67.68685], [46.23874, -64.50567], [45.83744, -64.75697], [45.651627, -65.326164], [46.23633, -64.45772], [45.28805, -66.03533], [46.23579, -64.51461], [44.90679, -66.98549], [46.24871, -64.56657], [45.77564, -64.64097], [46.11014, -64.81904], [45.77782, -64.64065], [45.77744, -64.64073], [45.77709, -64.64103], [45.77593, -64.6391], [45.77605, -64.63981], [45.77635, -64.63892], [45.77645, -64.63939], [45.7756, -64.64114], [45.27527, -66.06385], [45.96634, -66.62268], [46.086384, -64.793549], [45.96132, -66.62482], [45.242649, -66.116318], [45.27044, -66.05539], [46.23509, -64.50488], [47.70994, -65.77828], [45.68794, -65.2991], [46.236904, -64.424255], [45.083286, -67.054962], [45.14128, -67.12962], [47.26379, -65.04943], [45.95978, -66.64802], [47.36811, -68.31897], [46.10106, -64.80533], [47.16589, -67.94244], [47.98922, -66.71957], [45.30923, -66.19209], [46.12895, -64.8663], [46.12174, -64.84283], [46.02547, -66.68532], [45.92157, -67.07182], [47.73206, -64.65098], [47.65092, -65.61792], [46.47025, -67.57963], [44.950527, -66.914207], [45.95981, -66.64368], [46.48596, -64.69053], [46.56782, -67.79591], [45.27346, -66.05977], [45.28724, -66.03445], [46.06698, -65.28419], [47.39105, -68.33735], [47.24984, -68.58543], [46.0933, -64.78303], [45.86981, -65.8442], [47.35825, -68.66921], [47.51615, -64.91273], [45.27277, -66.06096], [46.10727, -64.7422], [46.07378, -64.69893], [46.46905, -67.57874], [46.47037, -67.58033], [46.47117, -67.58036], [46.46936, -67.58084], [46.47077, -67.58062], [46.47098, -67.58104], [46.1018, -64.84844], [46.92608, -65.62236], [46.35473, -64.53711], [46.16373, -67.55803], [45.95271, -65.75066], [46.38236, -64.61289], [44.9275, -66.93585], [44.92856, -66.93595], [46.0766, -64.79974], [45.963821, -66.66597], [46.09527, -64.79737], [44.99317, -66.94784], [45.96304, -66.66632], [45.95023, -66.59651], [45.9642, -66.66663], [45.9642, -66.66676], [45.27223, -66.06276], [46.12438, -64.88311], [45.96358, -66.66704], [46.10411, -64.79706], [45.11959, -67.09767], [45.86945, -65.8464], [45.96442, -66.66525], [45.96472, -66.66501], [45.28835, -66.03523], [46.02004, -66.62977], [46.2357, -64.51413], [46.1033, -64.79197], [45.26928, -66.05959], [45.95145, -66.61815], [45.19385, -67.2904], [46.10002, -64.74797], [46.19699, -64.16274], [46.09299, -64.78115], [46.76492, -65.01482], [46.09341, -64.79563], [46.95429, -65.86692], [47.36598, -68.68983], [45.39965, -65.97404], [45.95565, -66.63863], [45.95922, -66.63484], [47.75785, -64.725], [46.52521, -65.0674], [47.480824, -68.257904], [45.28661, -66.03609], [46.03571, -64.07931], [46.3317, -64.58529], [45.28831, -66.03441], [46.22779, -64.5237], [46.10152, -64.82048], [44.911606, -66.98613], [45.93815, -66.5998], [47.98206, -66.74309], [45.963139, -66.924171], [45.28193, -66.03476], [45.48954, -65.94151], [45.28042, -66.06937], [45.24893, -66.09444], [46.08032, -64.79767], [46.07421, -64.75612], [45.8561, -66.12239], [46.07064, -64.69293], [46.22943, -64.51487], [46.22254, -64.50715], [46.05925, -67.0396], [45.28725, -66.03449], [45.27696, -66.08464], [45.82761, -64.50392], [45.82821, -64.50529], [45.27468, -66.05974], [45.32114, -66.20873], [47.76037, -64.74196], [45.31499, -65.98687], [45.162, -67.33088], [47.73382, -65.12116], [46.029018, -65.905487], [45.34863, -65.93426], [45.35425, -65.55884], [46.08728, -64.79755], [46.53327, -66.20297], [45.96629, -66.7072], [46.51983, -67.16094], [45.95991, -66.62483], [44.65076, -66.84322], [45.93855, -66.15787], [46.59683, -64.90837], [47.40611, -65.79471], [46.09209, -64.78452], [45.96147, -66.72686], [45.28496, -66.06081], [45.18079, -66.96174], [47.63198, -65.67701], [46.37884, -64.6135], [45.2887, -66.03535], [46.818775, -65.790291], [46.54814, -64.70881], [46.23716, -64.5136], [46.87189, -65.68003], [46.23737, -64.51142], [45.92933, -66.75927], [45.47334, -66.0862], [46.11514, -64.77583], [46.09261, -64.79006], [45.94258, -66.59105], [44.63234, -66.69677], [46.06304, -67.03254], [47.795715, -64.912506], [45.76488, -65.94912], [45.60547, -64.94879], [46.69139, -64.85494], [46.491, -67.66155], [46.095688, -64.790131], [46.222889, -64.544365], [44.76829, -66.75359], [45.99366, -64.04675], [47.75959, -64.72574], [46.09682, -64.78928], [46.09536, -64.7895], [46.09674, -64.78956], [46.09657, -64.79048], [46.27163, -64.56742], [46.04033, -66.01826], [46.09959, -64.72239], [45.47903, -65.97338], [45.47876, -65.97487], [45.47921, -65.97482], [45.47932, -65.97372], [46.34146, -64.57192], [45.32522, -65.55086], [45.77573, -64.64104], [46.818371, -65.790352], [45.29687, -66.09408], [45.29546, -66.09287], [45.72024, -66.04625], [46.09251, -64.78246], [47.05505, -64.9538], [46.362522, -64.616158], [46.26868, -64.57264], [45.95575, -66.64092], [46.09354, -64.79468], [47.81735, -64.53509], [45.9633, -66.06582], [45.35314, -65.5598], [45.35313, -65.56046], [48.00819, -66.667], [46.1017, -64.82537], [48.04776, -66.4867], [45.84724, -65.92899], [46.81966, -65.79154], [46.6907, -64.85537], [45.64139, -64.85206], [47.994381, -66.440926], [44.76338, -66.76052], [47.9968, -66.41304], [46.26938, -64.57229], [46.44078, -64.70803], [47.35711, -68.22324], [47.07145, -65.24733], [46.09791, -64.79058], [46.23906, -64.51346], [47.61516, -64.81009], [45.97365, -66.6376], [47.6476, -65.68915], [45.96354, -66.72252], [45.95171, -66.59267], [46.691, -64.85472], [46.69086, -64.85414], [46.69221, -64.85359], [46.07853, -64.80982], [46.2379, -64.5092], [46.88378, -65.54288], [47.65281, -65.83257], [46.23669, -64.51765], [46.34599, -64.57114], [46.1326, -64.86324], [47.86413, -64.55045], [45.9802, -64.6953], [44.67387, -66.76554], [46.21488, -64.53484], [45.81995, -67.0679], [46.08779, -64.77839], [46.21866, -64.55752], [46.33022, -64.64258], [46.21881, -64.50036], [45.27553, -66.05814], [46.09218, -64.71879], [45.5846, -67.33248], [45.2709, -66.08022], [46.09583, -64.78146], [46.32552, -64.51761], [45.07457, -67.04374], [45.33802, -65.88582], [47.52187, -64.90561], [46.32402, -64.62413], [46.21809, -64.37704], [46.09363, -64.74321], [47.73131, -65.7068], [48.00548, -66.66541], [47.18145, -67.2092], [46.07032, -64.77399], [46.08814, -64.80174], [45.27314, -66.05435], [46.9276, -67.79765], [45.887341, -66.907364], [46.09383, -64.79432], [45.2777, -66.083], [45.84703, -64.64264], [46.09262, -64.78395], [46.09089, -64.78326], [45.276649, -66.060455], [46.43397, -66.49007], [45.96815, -66.77735], [47.07056, -65.42193], [45.27354, -66.05239], [47.07075, -65.42381], [45.6744, -65.35961], [45.27168, -66.05578], [47.98728, -66.71849], [44.61971, -66.86596], [45.43818, -65.99767], [46.09943, -64.79165], [45.28499, -66.037], [47.8701, -64.57044], [47.43695, -68.38958], [47.43781, -68.38966], [46.25109, -65.8576], [47.43699, -68.39067], [46.1211, -64.73162], [46.341686, -64.572624], [45.958027, -67.251663], [45.61097, -64.93702], [46.21845, -64.52164], [45.19545, -67.276955], [46.122658, -64.737968], [45.33413, -66.02857], [46.21911, -64.53799], [45.07419, -67.04269], [45.074799, -67.042923], [45.67131, -67.80301], [45.43539, -65.99652], [46.26682, -64.62832], [46.23446, -64.50874], [47.36368, -68.32772], [47.3995, -68.30418], [44.6224, -66.86249], [46.26179, -64.5688], [46.09273, -64.77908], [46.224922, -64.544624], [46.50056, -64.67759], [45.96359, -66.92481], [45.31997, -66.07787], [46.06746, -64.75425], [44.62096, -66.86811], [48.05005, -66.379], [44.97657, -66.95225], [46.09153, -64.68414], [45.4546, -66.34448], [45.70537, -65.81553], [45.8386, -66.51551], [46.34239, -64.57108], [47.87068, -65.77714], [45.60158, -64.94779], [45.133434, -67.044991], [45.86876, -66.10218], [45.14996, -67.40766], [46.03493, -64.72367], [47.77176, -64.57695], [45.98388, -66.7518], [47.351208, -68.135902], [45.20991, -67.16336], [47.98006, -66.34959], [46.099815, -64.753487], [45.19588, -67.1585], [46.105682, -64.77536], [45.833878, -67.724854], [46.09145, -64.78575], [45.96818, -66.07283], [46.22766, -64.53091], [46.41544, -64.82021], [45.72583, -65.509], [45.28705, -66.04195], [46.27366, -64.57688], [45.09018, -66.64842], [44.85738, -66.98624], [46.19248, -64.41918], [45.29052, -67.26355], [46.15345, -67.57461], [46.22576, -64.53769], [47.67536, -64.96517], [46.21891, -64.32131], [46.09663, -64.8026], [45.27272, -66.05347], [45.9685, -66.77876], [45.45371, -66.34659], [46.09633, -64.80407], [46.13393, -63.79852], [44.65288, -66.8424], [45.31881, -66.2011], [46.116966, -64.848137], [47.8439, -65.75171], [45.272575, -66.060204], [46.41374, -64.82101], [46.34124, -64.61577], [47.98412, -66.74175], [48.06038, -66.35446], [46.691055, -64.85585], [45.25233, -66.07186], [46.21795, -64.55822], [47.02859, -65.50845], [47.77075, -65.00553], [46.38228, -64.61489], [45.94936, -64.68165], [45.05388, -66.77307], [45.99058, -66.57856], [46.69026, -64.85384], [45.72207, -65.52048], [46.28028, -64.58084], [46.23448, -64.50783], [45.98198, -66.06867], [46.09738, -64.80355], [46.04644, -64.83978], [46.09927, -64.81939], [44.85214, -66.99654], [46.07492, -64.75597], [46.34253, -64.61596], [45.94115, -66.66111], [44.908973693847656, -66.98763275146484], [46.27385, -64.5764], [47.71651, -65.7028], [45.337151, -65.885002], [47.73837, -64.62466], [48.00901, -66.66509], [45.94285, -67.15675], [45.33018, -65.80893], [46.0054, -64.7077], [46.97553, -67.38742], [45.31334, -66.01383], [46.23442, -64.50644], [44.92857, -66.93455], [45.79931, -65.97813], [46.12056, -64.84803], [47.79193, -64.94716], [45.96414, -66.64923], [47.70433, -65.76326], [45.36098, -65.66849], [45.9683, -66.77713], [46.22697, -64.53565], [45.90529, -66.61925], [46.10485, -64.82688], [47.32039750000001, -68.3638592], [44.68453, -66.77241], [48.00865, -66.66329], [45.28278, -66.07065], [45.96385, -66.64743], [45.33912, -65.55627], [45.26812, -66.05791], [44.90609, -66.98747], [45.30346, -66.10363], [46.33947, -64.57057], [47.90747, -65.95043], [45.18357, -66.84078], [47.07079, -65.4221], [45.27075, -66.05112], [45.07204, -67.05123], [46.23663, -64.51312], [46.42364, -64.8168], [46.23687, -64.5157], [44.63967, -66.70597], [45.99248, -64.04621], [47.617672, -65.66729], [45.97743, -66.63733], [46.86379, -65.6717], [47.35782, -68.69267], [46.227943, -64.533775], [46.09503, -64.78347], [46.08873, -64.77827], [46.51175, -66.28574], [47.93538, -66.96641], [46.23122, -64.24562], [45.6115, -64.93736], [45.61281, -64.93615], [45.25347, -66.0726], [45.61301, -64.93694], [44.62027, -66.86847], [46.235531, -64.507256], [45.07331, -66.74316], [47.99214, -66.26509], [47.76849, -65.0874], [46.23631, -64.52415], [45.09178, -66.63734], [44.746872, -66.763229], [45.307617, -65.981865], [46.226646, -64.319794], [47.83729, -65.74289], [47.43694, -68.39118], [45.61146, -64.93555], [45.99169, -66.21372], [44.85641, -66.98168], [46.09827, -64.81786], [45.34662, -66.1368], [47.43743, -68.39142], [47.43783, -68.39149], [46.36009, -64.54784], [46.21846, -64.38098], [47.70328, -65.76222], [45.57739, -65.94983], [45.61093, -64.93715], [45.13497, -66.52082], [46.072319, -64.700287], [45.11537, -66.57922], [48.063519, -66.371452], [46.09621, -64.78636], [45.36829, -65.6683], [45.36679, -65.66678], [45.92686, -66.29897], [45.27131, -66.05557], [47.81329, -65.18292], [46.33749, -67.68796], [46.0211624, -64.71060849999999], [46.100494, -64.753845], [47.64366, -65.67848], [47.73581, -65.71145], [46.969582, -67.435974], [45.61072, -64.93618], [46.0836, -63.84043], [46.77967, -67.6331], [45.96629, -66.7194], [45.95911, -66.65245], [46.23411, -64.51703], [45.94853, -66.65005], [45.13636, -66.82373], [45.13439, -66.82241], [45.61127, -64.93629], [45.61078, -64.93586], [45.98911, -66.76844], [46.71972, -64.91705], [45.96136, -66.64003], [46.04819, -64.83949], [45.35259, -65.54392], [46.08854, -64.81211], [46.228695, -64.536247], [46.04661, -64.84105], [46.23808, -64.51603], [46.09164, -64.78445], [45.35469, -65.53744], [46.92646, -67.79589], [45.35372, -65.53834], [47.73789, -64.71537], [45.13265609741211, -67.04563903808594], [45.35396, -65.53872], [45.9499, -66.66638], [45.30397, -66.00621], [45.35375, -65.53739], [45.35344, -65.53764], [45.35329, -65.53757], [46.36528, -64.61689], [47.79433, -64.93396], [46.00429, -64.70819], [47.61275, -64.81219], [45.195332, -67.276764], [45.01447798974085, -66.96619916707277], [46.10178, -64.82017], [46.00848, -64.29214], [45.3554, -65.53759], [46.22085, -64.31527], [45.35479, -65.53905], [46.00422, -67.50119], [45.95953, -66.06496], [46.21165, -64.5192], [47.83422, -64.99059], [45.714596, -65.484169], [45.1862, -67.27024], [46.28334, -66.740883], [46.131142, -67.190353], [45.275566, -66.080009], [46.23875, -64.51588], [45.13933, -66.51728], [45.074593, -67.044754], [45.94741, -66.64926], [46.240009, -64.515877], [46.231087, -64.407516], [48.00194, -66.67459], [46.110821, -64.870117], [45.96365, -66.6964], [45.85679, -65.92225], [46.23024, -64.31938], [44.86039, -66.98206], [44.85909, -66.98275], [46.06788, -64.69591], [46.208225, -64.195747], [47.99995, -66.68577], [46.08071, -64.81084], [45.98813, -66.7689], [45.95038, -66.66505], [46.10759, -64.80402], [47.47157, -64.87455], [46.08971, -64.78714], [45.9737406, -64.0385094], [45.717503, -66.046791], [45.978863, -66.731178], [45.31205, -66.07591], [47.95398, -66.13549], [45.89449, -66.15195], [46.107677, -64.855568], [45.40994, -65.95667], [45.61352, -65.89712], [46.69115, -64.85492], [45.284336, -66.066879], [47.86747, -64.64721], [47.551792, -67.391037], [46.77254867553711, -65.76644134521484], [46.74905, -67.708298], [45.773117, -66.007622], [47.61794, -65.66839], [48.004429, -64.530899], [45.9459, -66.65513], [47.94521, -64.57309], [45.722847, -65.510262], [47.508293, -67.392204], [46.31528, -64.68607], [45.097977, -66.640862], [45.73257, -66.04641], [45.07663, -67.058907], [46.06073, -64.80224], [46.609909, -64.90995], [45.89549302437496, -67.01189495623112], [47.317745, -65.099785], [47.365707, -68.32637], [47.365707, -68.32637], [46.72251, -64.91486], [46.22542190551758, -64.31304931640625], [46.11787, -64.84553], [47.354221, -68.355141], [44.76204, -66.76384], [46.026077, -65.039642], [47.671989, -64.809013], [46.126587, -64.876831], [46.15479, -64.6681], [46.21441, -64.53728], [46.22814, -64.51368], [46.21869, -64.55255], [46.05424072675479, -65.13509893417358], [46.312706, -64.697372], [45.6062, -64.94578], [45.59317, -65.91964], [46.11228, -64.82178], [45.75173, -67.01989], [46.12791, -64.8229], [45.79499, -65.10057], [45.43665, -65.98332], [46.26659, -64.581711], [45.898167, -67.015411], [46.23505, -64.51456], [46.09518, -64.75355], [46.09504, -64.75458], [46.056267, -64.868256], [45.5405, -65.83512], [46.06749, -64.69043], [45.9613, -66.63932], [46.22454, -64.51478], [47.28002, -68.42375], [45.88507, -64.37406], [45.28847, -66.03524], [48.0197173, -66.4242627], [45.29167, -66.03022], [47.7975311, -64.8969127], [46.05681, -64.86753], [45.26095, -65.73409], [46.31917, -64.70903], [45.96089, -66.67429], [46.10561, -64.77742], [45.27466, -66.08091], [45.27557, -66.08095], [47.39791, -68.30239999999999], [47.0699374, -67.78565130000001], [44.71954, -66.74481999999999], [46.23511, -64.45722], [46.33656999999999, -64.566], [46.10255, -64.84809], [45.276, -66.08116], [46.1018331, -64.85673840000001], [45.94805, -66.63478], [46.52678, -66.25845], [46.21936, -64.66458], [46.67616, -64.80587], [48.00248, -66.3298499], [47.992596905314, -64.54807516951894], [47.85694, -64.50603], [46.56412, -66.11769], [47.98169, -66.27323], [46.28415, -66.74043], [46.12636, -64.85838], [46.28267, -66.74165], [46.28241, -66.74062], [46.10852, -64.87207], [46.108, -64.81479], [46.10823, -64.8147], [47.65246, -65.612], [45.9740759, -64.04602899999999], [46.77431, -67.49183], [45.92621, -66.63684], [46.77267, -67.49202], [46.1943, -64.53595], [46.05294, -64.67364], [46.09833, -64.79049], [46.17898, -64.00689], [46.23551, -64.46145], [47.0408365, -65.1839705], [44.8847219, -66.9459792], [46.01711, -64.12413], [46.68647, -64.78103], [47.3542221, -68.3551396], [46.23802, -64.52093], [45.67837, -65.33208], [46.0964569, -64.7427794], [46.96109, -65.74171], [46.32821, -64.52722], [45.60457, -64.93947], [45.67809, -65.33207], [45.6791399, -65.33131000000002], [47.65265, -65.61082], [46.04773, -64.08601], [45.27403, -66.05214], [46.35174, -64.56996], [46.76899121102922, -67.55068708465578], [45.646206, -64.83723119999999], [47.82346, -65.80322], [45.99441037647661, -66.0445674427918], [45.7665234, -64.6797586], [45.84002719999999, -66.5115751], [47.82389, -65.80423], [46.08292, -64.72755], [47.37591, -68.31718], [46.11425, -64.85575], [45.28404, -66.15653], [44.70439114253282, -66.74452666193247], [45.28917, -66.06097], [46.23759, -64.51483], [45.209357399840265, -67.16226920083763], [45.92854, -66.63765], [46.70652, -65.06311], [46.44644, -64.69236], [44.85936633020359, -66.99071658783568], [47.79305, -64.93532], [47.0236, -65.23567], [46.23614, -64.50745], [45.36917, -66.20677], [47.29028536292204, -68.39778900146484], [46.07275, -64.70037], [47.86679, -64.52592], [46.05737209999999, -64.84877], [45.60769, -64.94399], [46.10575720338942, -64.80070732533932], [45.3380515, -65.5535408], [46.11971, -64.83331], [45.8919, -66.91123], [46.70734, -65.06288], [46.863528144523634, -65.67217882722616], [47.2903821, -68.398991], [45.12822, -66.57339], [47.74927, -64.75354], [46.00534, -67.24834], [47.79318, -64.94382], [46.81811, -65.79019], [46.98159, -65.5551], [44.85956, -66.99063], [45.83001, -66.524], [46.0925, -64.78585], [46.10171, -64.67695], [45.27798, -66.05853], [47.76683999999999, -65.87313], [47.79959, -64.83144], [47.76013, -64.72572], [45.22574, -67.1729], [46.23573, -64.4582], [46.11239, -64.81985], [46.72857, -64.99352], [47.8611, -64.53222], [45.646206, -64.83723119999999], [46.22446, -64.30612], [47.12502, -67.5484], [46.11105439904023, -64.865757599473], [46.23496, -64.52186], [46.1002, -64.80068], [46.1183, -64.72731], [45.07655006176046, -67.0485399303434], [45.3621153, -65.5301826], [46.69179, -64.8547], [45.28805, -66.03547], [45.34009, -65.55345], [46.27216, -64.5642], [48.06288, -66.36585], [45.4165515, -65.9046935], [45.9458, -66.65791], [46.38656, -64.61849], [46.05866, -66.89112], [46.09327, -64.79446], [47.90881, -65.95004], [45.88316, -66.16527], [46.23082021088875, -64.40634313970804], [46.13853, -64.75807], [46.22467, -64.30771], [46.23788, -64.51474], [45.28185, -66.07186], [46.17388046059612, -66.61649107933046], [45.74794, -65.28414], [46.23501, -64.45742], [46.09905, -64.7546], [46.3489193, -64.62704029999999], [45.9647960913396, -66.7251546120221], [47.90737, -65.95085], [45.675663686963794, -65.4024300227539], [47.90896, -65.95066], [46.12054, -64.84473], [46.76546, -65.01482], [45.32838961234529, -66.20658952742815], [46.3735799, -64.65404], [45.78692, -66.85815], [46.09602, -64.79417], [46.19205663705672, -64.41993494572989], [46.19356, -64.42224], [45.28032, -66.07015], [46.70781, -65.0618], [46.057418, -64.8485354], [47.39883, -68.34664], [47.32533747904311, -68.38742393121339], [45.28224, -66.07232], [45.92864, -66.07366], [45.4165515, -65.9046935], [45.6017782620059, -64.93876269364013], [45.28279, -66.07051], [45.28171, -66.07232], [45.28221, -66.07225], [46.09649, -64.74037], [46.23393, -64.49921], [46.0593, -63.91972999999999], [45.57973, -66.00445], [47.21314, -68.79494], [47.21322, -68.79344], [47.2134, -68.79317], [47.21455, -68.79339], [45.27304, -66.11816], [45.20943289361715, -67.16231484390256], [46.51568217175622, -64.68523335291749], [45.27657, -66.05437], [46.10792, -64.80794], [45.38365, -65.50055], [45.27847, -66.16146], [45.94784, -66.63514], [45.08227, -67.05735], [46.03669, -64.7229], [45.37395, -65.92206], [46.26415, -65.86298], [47.81613, -65.17718], [47.83764, -65.74551], [47.8358, -65.74172], [46.32796, -64.66076], [46.3409726, -64.5721806], [46.26251, -65.86471], [47.758518773663695, -64.7410935536027], [45.96208, -66.6612], [46.1009962, -64.79699409999999], [46.43981, -67.61734], [46.10603, -64.76155], [46.1167149, -64.8485086], [47.8325013, -64.7056746], [46.21387935936651, -64.55955728888512], [45.32069, -65.55716], [46.11111, -64.86943], [46.364862714659445, -67.38344326615334], [46.3033322, -67.6677504], [47.79728, -64.9038], [46.11795, -64.72715], [46.68434, -64.76872], [46.26902680000001, -64.63567549999999], [46.1049687, -64.76104699999999], [46.29925, -64.56098], [46.07761199999999, -64.71813089999999], [46.0761, -64.71516], [45.89421, -65.81453], [46.80619, -67.78995], [45.41337, -65.95839], [46.10588, -64.85342], [45.32914, -66.20774], [45.2713167, -66.0562056], [46.43691, -64.69824], [45.74213, -67.19506], [46.41054, -64.6199], [46.10662, -64.82527], [46.0597789, -66.8715872], [47.45862461285806, -64.93680831044912], [45.89441, -65.81459], [45.11429, -67.07356], [45.933053, -66.642161], [45.2726, -66.05197], [45.28317, -66.07195], [45.77244, -66.86612], [47.45426, -64.96436], [46.1796403, -64.0231347], [45.28911, -66.04045], [44.69961, -66.74453], [46.10831470000001, -64.8592911], [45.06749, -66.8149], [46.71998607761787, -64.90491684526205], [46.10771, -64.86829], [46.09755, -64.74217], [46.23682, -64.51977], [46.11604, -64.75258], [45.89791, -66.92104], [47.04319, -67.74279], [45.83824, -64.5757], [46.22492, -64.3312], [45.33911, -65.55259], [46.74975, -65.82458], [46.08802, -64.79071], [45.96831, -64.52962], [46.08799, -64.79234], [47.6299377, -67.3428637], [46.09758, -64.78006], [47.73149, -65.70703], [45.95563, -66.64188], [46.0989, -64.77997], [45.96093, -66.7681], [46.1330536, -63.79623890000001], [47.86546999999999, -64.65024], [46.0983, -64.77993], [46.08361, -64.81953], [46.05626, -64.81248], [45.94862, -66.65787], [46.34511446614288, -64.52914237976074], [46.07855010000001, -64.8074661], [47.45425, -64.96402], [47.4543, -64.96337], [47.45299, -64.96275], [47.45469, -64.9628], [45.4097496, -65.9542371], [47.79103351293648, -64.64209523051977], [46.11754, -64.84873], [47.4509, -64.94914], [45.05065, -66.86623], [45.2587, -66.07129], [47.80232, -64.84161], [46.39731, -64.62067], [45.1388182834835, -67.12623997383878], [47.3879673, -68.3511291], [46.77476, -67.48999], [46.77338, -67.49138], [47.39178709999999, -68.33877369999999], [46.09011, -64.80149], [47.39069, -68.33993], [46.09988, -64.81745], [46.11903, -64.87991], [47.63059, -67.34175], [46.11898, -64.88152], [46.09141, -64.78011], [47.66847, -64.85005], [46.14648, -67.57629], [45.2910996, -66.02852419999999], [47.42951, -68.40481], [45.2829711, -66.0607437], [46.103385399283134, -64.85668953862304], [45.27121, -66.04871], [47.40905, -65.7951], [46.6893729, -64.799551], [46.2194259, -64.547915], [46.06466, -64.71439], [45.9762885, -64.96246339999999], [44.72339, -66.774], [47.3458818, -65.0308423], [45.61153, -64.93717], [46.2146266, -64.5601013], [45.35298850373204, -65.54473131895065], [47.3458818, -65.0308423], [47.3458818, -65.0308423], [45.3141686, -66.00171080000001], [46.05081, -64.03212], [47.79219, -64.6426], [44.68305, -66.78913], [46.10694, -64.8694], [47.92697, -66.09065], [46.42335, -64.80952], [48.0614, -66.3599], [46.09549, -64.74199], [46.09737, -64.7422], [46.07172, -64.69223], [44.64843, -66.8466], [45.78266, -66.14422], [45.77958770155288, -66.14343523979187], [46.26448, -65.86244], [45.28887, -66.03528], [46.0956, -64.74389], [46.23385, -64.5136], [47.449116977634944, -68.33639551450896], [46.09609, -64.74397], [46.1535, -64.6686], [45.25278, -66.07007], [45.96248, -66.64905], [46.33261, -64.59211], [47.7978372, -64.8905881], [45.94178, -66.65802], [45.07603, -67.05183], [46.12619, -64.79217], [46.11002, -64.86719], [47.46604, -64.87953], [46.06492, -64.78709], [46.22485, -64.33087], [45.27126, -66.06199], [46.0925101, -64.7800022], [45.96005, -66.0671], [45.0823, -67.04838], [46.09598, -64.74059], [45.28343, -65.99609], [45.25732, -66.07902], [45.27366, -66.05075], [47.91798, -66.00794], [45.99981125583601, -64.03462199145386], [46.09518, -64.68238], [47.2903821, -68.398991], [46.09731, -64.75219], [46.23638, -64.52017], [46.0844282, -64.7322896], [46.1042, -64.78066], [46.10336, -64.80166], [45.7963, -65.09885], [45.26802453481618, -66.02214004844427], [48.00161, -66.66384], [46.23427, -64.51655], [46.54198, -65.03024], [44.74402029946605, -66.75886239856482], [45.91531, -66.0035], [45.97988460068972, -66.6796639], [47.62954548217043, -67.34273504465818], [45.27225, -66.05202], [46.15009, -63.85603], [46.09048, -64.78546], [45.38972, -65.97535], [46.11959, -64.74018], [47.67273, -64.93229], [45.27598, -66.15251], [46.22323, -64.33658], [45.87509, -66.89199], [45.25273, -66.08445], [45.07145, -67.04609], [46.3628834, -64.61568609999999], [45.1342882, -67.0678049], [47.3734091, -68.32574], [45.97059, -64.04256], [46.22821, -64.536018], [47.88444, -65.80886], [45.27231, -66.06182], [44.65346, -66.82816], [46.64156, -64.89564], [46.32945, -64.61723], [46.17221, -66.61742], [47.35548, -68.32682], [46.09591, -64.73902], [46.06913678197159, -64.7874104116394], [46.21952, -64.55736], [46.0093267, -66.90437100000001], [45.28846, -66.18313], [45.64961, -65.57889], [46.7443894, -67.7933793], [46.5131, -66.28684], [45.16344, -67.00399], [47.68542, -65.66942], [46.04893228952277, -65.95194647832642], [46.0728425, -64.7786181], [46.07676, -64.7282], [46.07655, -64.72605], [46.11334, -64.76955], [46.46921, -64.76651], [46.11369, -64.77124], [46.10742, -64.8255], [46.1036393, -64.7745964], [46.09519, -64.78734], [45.66366, -67.79366], [46.23008, -64.5056], [47.6377362, -65.6982862], [46.0969, -64.77972], [45.95711, -66.63676], [46.07343, -64.75683], [45.92988, -66.63628], [44.90588, -66.98527], [45.28304, -66.07039], [45.24888, -66.07684], [46.1089159, -64.8551083], [46.17653, -63.99012], [45.07802110000001, -67.0573204], [45.88408487390464, -66.36611854232788], [47.77066, -65.00509], [47.77229, -65.00396], [47.77104, -65.0055], [47.92564, -66.08901], [46.103032, -64.7556219], [47.56118, -65.65986], [46.10468, -64.77805], [46.08986, -64.80212], [46.08996, -64.77551], [46.06697, -64.71756], [45.14198, -67.06166], [44.675, -66.76509], [44.67528, -66.76552], [44.67388, -66.76534], [46.09405, -64.77114], [46.0571, -64.87081], [47.3458818, -65.0308423], [46.83857, -65.74797], [46.10129, -64.72219], [47.62491, -65.66515], [46.39947132252368, -64.82880178838968], [46.10767939999999, -64.8555693], [45.94923, -66.65709], [46.11041, -64.86121], [45.00979, -66.96069], [45.884055, -66.36614], [46.12192, -64.88201], [47.88148, -64.61371], [45.27548, -66.0627], [44.9008, -66.90333], [46.08886, -64.78643], [46.08774, -64.78807], [45.9580502, -66.6458103], [47.3412842, -64.9673281], [47.36364, -68.27402], [45.24868, -66.07751], [45.24887, -66.07901], [45.25026, -66.07721], [45.24916, -66.07754], [45.24861, -66.07863], [45.2506, -66.07826], [45.24919, -66.07884], [46.92217, -67.44077], [46.23573, -64.51457], [46.09552, -64.78846], [46.09745, -64.81494], [45.67758, -65.33076], [46.02141, -64.71097], [47.36676, -68.39254], [45.9574, -66.64225], [45.27055, -66.05558], [46.11697, -64.77547], [45.3155016, -66.20305689999999], [45.9604, -66.64936], [46.22908, -64.40355], [45.95883, -66.64917], [45.32315, -65.55607], [46.0794657, -64.79744889999999], [45.33122, -65.54751], [46.11875, -64.87693], [46.12007, -64.87786], [47.68957, -68.10852], [46.09825, -64.77844], [46.10556, -64.79736], [46.10098, -64.81299], [45.97641, -66.64235], [46.04807, -65.94914], [45.95928, -66.6516], [46.0945, -64.79114], [46.39437, -67.47559], [45.6035568, -64.9415875], [46.1649999, -67.5726863], [47.79971, -64.63862], [45.96518, -66.66415], [45.96719, -66.71219], [47.69958, -65.69787], [45.93049, -66.6362], [45.72690619999999, -65.5080633], [44.943905101546335, -66.9765880331397], [45.978, -66.64387], [46.6017, -66.17206], [45.95203, -66.65336], [45.30069, -65.97867], [46.09886, -64.77877], [46.07836, -64.79907], [46.02226, -66.90225], [45.30329, -66.10501], [45.96749, -66.71287], [46.10592, -64.76045], [46.10271, -64.79553], [46.16854, -64.78332], [46.01106, -65.63217], [45.26862, -66.02127], [46.00953, -65.6345], [45.19998995721716, -66.8564572557807], [45.6663587, -67.7674961], [47.250713860260255, -68.6060465883606], [45.94235, -66.63274], [46.2369552, -64.5162607], [47.40558, -68.35602], [45.28636, -66.05542], [45.9822107, -67.46797529999999], [46.11847, -64.79294]],\n",
              "                {&quot;blur&quot;: 5, &quot;maxZoom&quot;: 18, &quot;minOpacity&quot;: 0.1, &quot;radius&quot;: 25}\n",
              "            ).addTo(map_ce946af0cbf96d813849e1b9278fc2d6);\n",
              "        \n",
              "&lt;/script&gt;\n",
              "&lt;/html&gt;\" style=\"position:absolute;width:100%;height:100%;left:0;top:0;border:none !important;\" allowfullscreen webkitallowfullscreen mozallowfullscreen></iframe></div></div>"
            ]
          },
          "metadata": {},
          "execution_count": 20
        }
      ],
      "source": [
        "\n",
        "\n",
        "coordenadas=[]\n",
        "for lat,lng in zip(df_padrao['latitude'].values, df_padrao['longitude'].values):\n",
        "  coordenadas.append([lat,lng])\n",
        "\n",
        "\n",
        "mapa = folium.Map(\n",
        "    location=[46.10555,\t-64.81432],\n",
        "    zoom_start=5.5,\n",
        "    min_zoom = 4\n",
        "    \n",
        ")\n",
        "\n",
        "mapa.add_child(plugins.HeatMap(coordenadas, min_opacity=0.1, blur=5))\n",
        "\n",
        "mapa"
      ]
    },
    {
      "cell_type": "markdown",
      "metadata": {
        "id": "ZOIKcaDILzkl"
      },
      "source": [
        "Observando o mapa de calor, fica evidente que a maioria das hospedagens se localizam na região sul/sudeste de New Brunswick, principalmente na região sudeste."
      ]
    },
    {
      "cell_type": "markdown",
      "metadata": {
        "id": "vTneAMRUYvr1"
      },
      "source": [
        "### **Q7. Qual é a média do mínimo de noites para aluguel (minimum_nights)?**"
      ]
    },
    {
      "cell_type": "markdown",
      "metadata": {
        "id": "OdHhm5gYMQt_"
      },
      "source": [
        "Como foi feito anteriormente, para acharmos a média vamos selecionar apenas a desejada, coluna 'minimum_nights', podemos facilmente descobrir a média de preço das hospedagens somando-se todos os valores e dividindo-se pelo número de elementos deste conjunto."
      ]
    },
    {
      "cell_type": "code",
      "execution_count": 21,
      "metadata": {
        "colab": {
          "base_uri": "https://localhost:8080/"
        },
        "id": "_VzNhrEgY82N",
        "outputId": "f4cf288f-52c4-407d-c348-f8bf58ee6537"
      },
      "outputs": [
        {
          "output_type": "stream",
          "name": "stdout",
          "text": [
            "Sem os valores atípicos:\n",
            "Valor Máximo do mínimo de noites para aluguel = 365\n",
            "Valor Minimo do mínimo de noites para aluguel = 1\n",
            "A média do minimo de noites para alugar é 2.8\n"
          ]
        }
      ],
      "source": [
        "# ver a média da coluna `minimum_nights``\n",
        "print('Sem os valores atípicos:')\n",
        "print(f\"Valor Máximo do mínimo de noites para aluguel = {df_padrao['minimum_nights'].max()}\")\n",
        "print(f\"Valor Minimo do mínimo de noites para aluguel = {df_padrao['minimum_nights'].min()}\")\n",
        "print(f\"A média do minimo de noites para alugar é {df_padrao['minimum_nights'].mean():.1f}\")\n"
      ]
    },
    {
      "cell_type": "markdown",
      "metadata": {
        "id": "A5wosCty5-W1"
      },
      "source": [
        "Vamos analisar quanto anúncios utilizam 365 dias como o mínimo de noites para alugar, esse numero provavelmente é um outlier, uma vez que a média é 2,8. Se for confirmando, esse registro não será considerado.\n",
        "\n",
        "Primeiramente vamos descobrir quantos anúncios possuem 365 dias como quantidade minima de dias. Para ajudar na visualização vou ordenar do maior índex para o menor, sendo o primeiro índex o desejado."
      ]
    },
    {
      "cell_type": "code",
      "execution_count": 22,
      "metadata": {
        "colab": {
          "base_uri": "https://localhost:8080/"
        },
        "id": "QIQBnGPm6baC",
        "outputId": "634e2cfc-5a5a-4f65-f73b-400282b377ee"
      },
      "outputs": [
        {
          "output_type": "execute_result",
          "data": {
            "text/plain": [
              "365       1\n",
              "90        4\n",
              "80        1\n",
              "60        2\n",
              "31        2\n",
              "30       12\n",
              "28        4\n",
              "22        1\n",
              "21        3\n",
              "14       10\n",
              "13        1\n",
              "12        1\n",
              "11        1\n",
              "10        3\n",
              "7       208\n",
              "6        48\n",
              "5       102\n",
              "4       128\n",
              "3       395\n",
              "2       963\n",
              "1      1311\n",
              "Name: minimum_nights, dtype: int64"
            ]
          },
          "metadata": {},
          "execution_count": 22
        }
      ],
      "source": [
        "#df['minimum_nights'].value_counts().sort_values(ascending=True)[:10]\n",
        "df_padrao['minimum_nights'].value_counts().sort_index(ascending=False)"
      ]
    },
    {
      "cell_type": "code",
      "execution_count": 23,
      "metadata": {
        "colab": {
          "base_uri": "https://localhost:8080/"
        },
        "id": "L-v1dpPXN835",
        "outputId": "3a7f8b67-092b-40c0-94f7-bc21e593e845"
      },
      "outputs": [
        {
          "output_type": "stream",
          "name": "stdout",
          "text": [
            "temos 10 valores maiores que 30 dias.\n",
            "10*100/3201 = 0.31240237425804435%\n"
          ]
        }
      ],
      "source": [
        "tot_night =len(df_padrao['minimum_nights'])\n",
        "min_night = len(df_padrao[df_padrao['minimum_nights']>30])\n",
        "print(f'temos {min_night} valores maiores que 30 dias.')\n",
        "calculo = min_night* 100 / tot_night\n",
        "print(f'{min_night}*100/{tot_night} = {calculo}%')"
      ]
    },
    {
      "cell_type": "markdown",
      "metadata": {
        "id": "IACy92AT872W"
      },
      "source": [
        "Temos 10 valores maiores que 30, que será desconsiderados por se tratarem de outliers, que representam 0,31% do dataset. O valor máximo do minemo de noites agora passará a ser 30 dias."
      ]
    },
    {
      "cell_type": "code",
      "execution_count": 24,
      "metadata": {
        "colab": {
          "base_uri": "https://localhost:8080/"
        },
        "id": "mXDDwS3R7uUy",
        "outputId": "177ae33e-8592-4254-ffda-5dc15e51656f"
      },
      "outputs": [
        {
          "output_type": "stream",
          "name": "stdout",
          "text": [
            "Valor Máximo do mínimo de noites para aluguel = 30\n",
            "A média do minimo de noites para alugar é 2.5\n"
          ]
        }
      ],
      "source": [
        "df_padrao=df_padrao.drop(df_padrao[df_padrao['minimum_nights']>30].index)\n",
        "print(f\"Valor Máximo do mínimo de noites para aluguel = {df_padrao['minimum_nights'].max()}\")\n",
        "print(f\"A média do minimo de noites para alugar é {df_padrao['minimum_nights'].mean():.1f}\")"
      ]
    },
    {
      "cell_type": "markdown",
      "metadata": {
        "id": "XRFV1Ua099Yl"
      },
      "source": [
        "Uso do boxplot para visualizar o mínimo de noites.\n",
        "\n",
        "Boxplot, também conhecido como diagrama de caixa, é um tipo de gráfico para ilustrar um conjunto de dados. Por meio dele é possível fazer uma relação entre uma variável quantitativa (numérica) e outra qualitativa (categórica). \n",
        "\n",
        "O objetivo da construção desse gráfico é tornar mais nítida a visualização das estatísticas para fazer análises e/ou processamentos em relação a dispersão, assimetria, média, outliers (mínimos e máximos) e mediana"
      ]
    },
    {
      "cell_type": "code",
      "execution_count": 25,
      "metadata": {
        "colab": {
          "base_uri": "https://localhost:8080/",
          "height": 265
        },
        "id": "GtWmBLeI4JPX",
        "outputId": "8bebad33-800e-4e99-caad-b00471364cc6"
      },
      "outputs": [
        {
          "output_type": "display_data",
          "data": {
            "text/plain": [
              "<Figure size 432x288 with 1 Axes>"
            ],
            "image/png": "[encoded data removed]"
          },
          "metadata": {
            "needs_background": "light"
          }
        }
      ],
      "source": [
        "#df_padrao['minimum_nights'].plot(figsize=(15,5))\n",
        "df_padrao['minimum_nights'].plot.box(vert=False);"
      ]
    },
    {
      "cell_type": "markdown",
      "metadata": {
        "id": "GkvAg623RjoR"
      },
      "source": [
        "## Conclusões\n"
      ]
    },
    {
      "cell_type": "markdown",
      "metadata": {
        "id": "rbZ3Hsy9Ypw8"
      },
      "source": [
        "Neste caderno, foi feita uma análise superficial dos dados do airbnb da região de New Brunswick, Canada, tendo o banco de dados sido obtido do Airbnb no mês de novembro de 2022. Para aprimorar a análise, alguns outliers identificados por meio da visualização de histogramas de dados foram eliminados. Finalmente,\n",
        "deve-se notar que esta análise, assim como o conjunto de dados utilizado, é uma versão resumida, com um número limitado de atributos.\n",
        "A falta de uma base de dados grande em alguma regiões dificultar e/ou pode distorcer algumas conclusões.\n",
        "\n",
        "Análise do dataset:\n",
        "* linha: 3232   \n",
        "* colunas: 18\n",
        "\n",
        "Remoção de outlier:\n",
        "* preço\n",
        "* noites minimas\n",
        "\n",
        "Preço médio da hospedagem:\n",
        "* Valor Médio = 157.72$\n",
        "\n",
        "O tipo de imóvel mais alugado no Airbnb, depois de remover os outliers:\n",
        "Quantidade:\n",
        "\n",
        "* Entire home/apt:    2544\n",
        "* Private room:        651\n",
        "* Hotel room:            4\n",
        "* Shared room:           2\n",
        "\n",
        "porcentagem:\n",
        "\n",
        "  *\tWhole houses/apartments: 79.48%.\n",
        "  *\tPrivate rooms: 20.34%.\n",
        "  *\tShared rooms: 0.12%.\n",
        "  *\tHotel rooms: 0.06%.\n",
        "\n",
        "\n",
        "De acordo com a analise, a vizinhaça mais com a hospedagem mais cara em New Brunswick, Canada, depois de remover os outliers são:\n",
        "\n",
        "neighbourhood\n",
        "* Saint-Andre:    400.00\n",
        "* Dufferin:       305.40\n",
        "* North Lake:     281.29\n",
        "* Kars:           256.67 \n",
        "* Hardwicke:      234.89\n",
        "* Musquash:       233.33\n",
        "* Saint David:    228.14\n",
        "* Weldford:       226.58\n",
        "* Campobello:     225.56\n",
        "* West Isles:     224.22\n",
        "\n",
        "A média do mínimo de noites para aluguel são: 2,5 dias.\n"
      ]
    }
  ],
  "metadata": {
    "colab": {
      "provenance": [],
      "include_colab_link": true
    },
    "kernelspec": {
      "display_name": "Python 3",
      "name": "python3"
    }
  },
  "nbformat": 4,
  "nbformat_minor": 0
}